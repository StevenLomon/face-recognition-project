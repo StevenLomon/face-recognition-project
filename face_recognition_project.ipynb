{
  "cells": [
    {
      "cell_type": "markdown",
      "metadata": {
        "id": "view-in-github",
        "colab_type": "text"
      },
      "source": [
        "<a href=\"https://colab.research.google.com/github/StevenLomon/face-recognition-project/blob/CNN-model-development/face_recognition_project.ipynb\" target=\"_parent\"><img src=\"https://colab.research.google.com/assets/colab-badge.svg\" alt=\"Open In Colab\"/></a>"
      ]
    },
    {
      "cell_type": "code",
      "execution_count": 1,
      "metadata": {
        "id": "3TTbWhVQoTDA"
      },
      "outputs": [],
      "source": [
        "import numpy as np\n",
        "import pandas as pd\n",
        "import tensorflow as tf\n",
        "import os\n",
        "import cv2\n",
        "import imghdr\n",
        "from imutils import paths\n",
        "from matplotlib import pyplot as plt\n",
        "#from tensorflow.keras.datasets import cifar10"
      ]
    },
    {
      "cell_type": "markdown",
      "metadata": {
        "id": "a-zPe-O1vzpY"
      },
      "source": [
        "# image preprocessing"
      ]
    },
    {
      "cell_type": "code",
      "execution_count": null,
      "metadata": {
        "id": "eP7CQJkfvzpc"
      },
      "outputs": [],
      "source": [
        "import shutil\n",
        "\n",
        "data = pd.read_csv('fairface.csv')\n",
        "\n",
        "main_directory = '/Users/yari/2023/Applicerad_AI/fairfacedata/fairface_images (kopia)'\n",
        "structured_directory = '/Users/yari/2023/Applicerad_AI/fairfacedata/structured_images'\n",
        "\n",
        "for index, row in data.iterrows():\n",
        "    source = os.path.join(main_directory, row['file'])\n",
        "    race_dir = os.path.join(structured_directory, row['race'])\n",
        "    if not os.path.exists(race_dir):\n",
        "        os.makedirs(race_dir)\n",
        "    destination = os.path.join(race_dir, row['file'])\n",
        "    if os.path.exists(source):\n",
        "        shutil.move(source, destination)\n",
        "    else:\n",
        "        print(f'file could not be found and skipped: {source}')"
      ]
    },
    {
      "cell_type": "code",
      "execution_count": 2,
      "metadata": {
        "id": "ebqTISyYvzpd",
        "outputId": "baf9ede2-a62c-40aa-b30b-407f10cfed68",
        "colab": {
          "base_uri": "https://localhost:8080/",
          "height": 176
        }
      },
      "outputs": [
        {
          "output_type": "error",
          "ename": "NameError",
          "evalue": "ignored",
          "traceback": [
            "\u001b[0;31m---------------------------------------------------------------------------\u001b[0m",
            "\u001b[0;31mNameError\u001b[0m                                 Traceback (most recent call last)",
            "\u001b[0;32m<ipython-input-2-304fa4ce4ebd>\u001b[0m in \u001b[0;36m<cell line: 1>\u001b[0;34m()\u001b[0m\n\u001b[0;32m----> 1\u001b[0;31m \u001b[0mdata\u001b[0m\u001b[0;34m.\u001b[0m\u001b[0mhead\u001b[0m\u001b[0;34m(\u001b[0m\u001b[0;34m)\u001b[0m\u001b[0;34m\u001b[0m\u001b[0;34m\u001b[0m\u001b[0m\n\u001b[0m",
            "\u001b[0;31mNameError\u001b[0m: name 'data' is not defined"
          ]
        }
      ],
      "source": [
        "data.head()"
      ]
    },
    {
      "cell_type": "code",
      "execution_count": null,
      "metadata": {
        "id": "v3_ko2KIvzpf",
        "outputId": "57b94218-6523-4700-f55a-1581c80f4c2b"
      },
      "outputs": [
        {
          "name": "stdout",
          "output_type": "stream",
          "text": [
            "Found 35424 files belonging to 7 classes.\n"
          ]
        }
      ],
      "source": [
        "images = tf.keras.utils.image_dataset_from_directory('/Users/yari/2023/Applicerad_AI/fairfacedata/structured_images')"
      ]
    },
    {
      "cell_type": "code",
      "execution_count": null,
      "metadata": {
        "id": "wAyDhtqjvzpg"
      },
      "outputs": [],
      "source": [
        "image_iterator = images.as_numpy_iterator()"
      ]
    },
    {
      "cell_type": "code",
      "execution_count": null,
      "metadata": {
        "id": "uz1laiAhvzpg"
      },
      "outputs": [],
      "source": [
        "\n",
        "batch = image_iterator.next()"
      ]
    },
    {
      "cell_type": "code",
      "execution_count": null,
      "metadata": {
        "id": "rMm4HEt3vzph",
        "outputId": "560647d3-9509-4b87-d266-7e62a6ec9852"
      },
      "outputs": [
        {
          "data": {
            "text/plain": [
              "(32, 256, 256, 3)"
            ]
          },
          "execution_count": 108,
          "metadata": {},
          "output_type": "execute_result"
        }
      ],
      "source": [
        "#images represented as numpy array\n",
        "batch[0].shape"
      ]
    },
    {
      "cell_type": "code",
      "execution_count": null,
      "metadata": {
        "id": "g01THU2Uvzpi",
        "outputId": "f7f54505-5d44-4f36-8477-de19f2dc8759"
      },
      "outputs": [
        {
          "data": {
            "text/plain": [
              "array([1, 6, 1, 5, 0, 2, 1, 0, 6, 6, 6, 1, 3, 0, 6, 1, 0, 5, 5, 4, 3, 3,\n",
              "       3, 4, 3, 6, 6, 6, 1, 2, 5, 1], dtype=int32)"
            ]
          },
          "execution_count": 86,
          "metadata": {},
          "output_type": "execute_result"
        }
      ],
      "source": [
        "batch[1] # this is the clauses i vår fall label for olika ras."
      ]
    },
    {
      "cell_type": "code",
      "execution_count": null,
      "metadata": {
        "id": "l2brsIvJ4dv4"
      },
      "outputs": [],
      "source": [
        "# ska skala ner datan\n",
        "scaled_images = images.map(lambda x, y: (x/255, y))"
      ]
    },
    {
      "cell_type": "code",
      "execution_count": null,
      "metadata": {
        "id": "obSP8lDUvzpk"
      },
      "outputs": [],
      "source": [
        "scaled_image_iterator = scaled_images.as_numpy_iterator()"
      ]
    },
    {
      "cell_type": "code",
      "execution_count": null,
      "metadata": {
        "id": "muiV1GQZvzpl"
      },
      "outputs": [],
      "source": [
        "batch = scaled_image_iterator.next()"
      ]
    },
    {
      "cell_type": "code",
      "execution_count": null,
      "metadata": {
        "id": "-xQ2WF8Avzpl",
        "outputId": "2b538c0c-8a6a-44ec-a32c-6e10d6caac87"
      },
      "outputs": [
        {
          "data": {
            "text/plain": [
              "0.0"
            ]
          },
          "execution_count": 152,
          "metadata": {},
          "output_type": "execute_result"
        }
      ],
      "source": [
        "batch[0].min()"
      ]
    },
    {
      "cell_type": "code",
      "execution_count": null,
      "metadata": {
        "id": "3hjhQEPbvzpm"
      },
      "outputs": [],
      "source": [
        "fig, ax = plt.subplots(ncols=11, figsize = (20,20))\n",
        "for idx, img in enumerate(batch[0][:11]):\n",
        "    ax[idx].imshow(img)\n",
        "    ax[idx].title.set_text(batch[1][idx])"
      ]
    },
    {
      "cell_type": "markdown",
      "metadata": {
        "id": "SVeIp2zXvzpm"
      },
      "source": [
        "# spliting data"
      ]
    },
    {
      "cell_type": "code",
      "execution_count": null,
      "metadata": {
        "id": "sIFrjH8evzpm",
        "outputId": "5f39ccdf-2487-412f-a338-42ab2a4106e1"
      },
      "outputs": [
        {
          "data": {
            "text/plain": [
              "1107"
            ]
          },
          "execution_count": 156,
          "metadata": {},
          "output_type": "execute_result"
        }
      ],
      "source": [
        "len(images)"
      ]
    },
    {
      "cell_type": "code",
      "execution_count": null,
      "metadata": {
        "id": "rLhECCi5vzpm"
      },
      "outputs": [],
      "source": [
        "train_size = int(len(images)*.7)\n",
        "validate_size = int(len(images)*.2)\n",
        "test_size = int(len(images)*.1)"
      ]
    },
    {
      "cell_type": "code",
      "execution_count": null,
      "metadata": {
        "id": "8Iu08WLPvzpm",
        "outputId": "e11de717-fb87-4c21-9212-be0a8753f5e2"
      },
      "outputs": [
        {
          "name": "stdout",
          "output_type": "stream",
          "text": [
            "Train size: 774 \n",
            "Test size: 110 \n",
            "Validation size: 221\n"
          ]
        }
      ],
      "source": [
        "print(f'Train size: {train_size} \\nTest size: {test_size} \\nValidation size: {validate_size}')"
      ]
    },
    {
      "cell_type": "code",
      "execution_count": null,
      "metadata": {
        "id": "1SyaoPOtvzpn"
      },
      "outputs": [],
      "source": [
        "train = images.take(train_size)\n",
        "test = images.skip(train_size).take(test_size)\n",
        "validate = images.skip(train_size+test_size).take(validate_size)"
      ]
    },
    {
      "cell_type": "markdown",
      "metadata": {
        "id": "eytH5Cghvzpn"
      },
      "source": [
        "# Modeling"
      ]
    },
    {
      "cell_type": "code",
      "execution_count": null,
      "metadata": {
        "id": "dzv6PdDlvzpn"
      },
      "outputs": [],
      "source": [
        "from tensorflow.keras.models import Sequential\n",
        "from tensorflow.keras.layers import Conv2D, MaxPooling2D, Dense , Flatten, Dropout"
      ]
    },
    {
      "cell_type": "code",
      "execution_count": null,
      "metadata": {
        "id": "J6ELLv3mvzpo"
      },
      "outputs": [],
      "source": [
        "model = Sequential()"
      ]
    },
    {
      "cell_type": "code",
      "execution_count": null,
      "metadata": {
        "id": "SxasnMguvzpo"
      },
      "outputs": [],
      "source": [
        "# adding convolotional layer\n",
        "model.add(Conv2D(16, (3,3),1, activation = 'relu', input_shape = (256,256,3)))\n",
        "model.add(MaxPooling2D())\n",
        "\n",
        "model.add(Conv2D(32, (3,3),1, activation = 'relu'))\n",
        "model.add(MaxPooling2D())\n",
        "\n",
        "model.add(Conv2D(16, (3,3),1, activation = 'relu'))\n",
        "model.add(MaxPooling2D())\n",
        "\n",
        "model.add(Flatten())\n",
        "\n",
        "model.add(Dense(256, activation = 'relu'))\n",
        "model.add(Dense(1, activation = 'sigmoid'))"
      ]
    },
    {
      "cell_type": "code",
      "execution_count": null,
      "metadata": {
        "id": "vqbyVQvdvzpo"
      },
      "outputs": [],
      "source": [
        "import tensorflow as tf\n",
        "model.compile('adam', loss= tf.keras.losses.BinaryCrossentropy(), metrics=['accuracy'])"
      ]
    },
    {
      "cell_type": "code",
      "execution_count": null,
      "metadata": {
        "id": "xaNotL0Mvzpo"
      },
      "outputs": [],
      "source": [
        "model.summary()"
      ]
    },
    {
      "cell_type": "code",
      "execution_count": null,
      "metadata": {
        "id": "aoLj5x5Svzpo"
      },
      "outputs": [],
      "source": [
        "log_directory= '/Users/yari/2023/Applicerad_AI/fairfacedata/logs'"
      ]
    },
    {
      "cell_type": "code",
      "execution_count": null,
      "metadata": {
        "id": "Su9R3v8Rvzpo"
      },
      "outputs": [],
      "source": [
        "tensorbaord_callback = tf.keras.callbacks.TensorBoard(log_dir = log_directory)"
      ]
    },
    {
      "cell_type": "code",
      "execution_count": null,
      "metadata": {
        "id": "1o23cziNvzpp"
      },
      "outputs": [],
      "source": []
    },
    {
      "cell_type": "code",
      "execution_count": null,
      "metadata": {
        "id": "WtVMuzWZvzpp"
      },
      "outputs": [],
      "source": [
        "hist = model.fit(train, epochs=20, validation_data= validate, callbacks=[tensorbaord_callback])"
      ]
    },
    {
      "cell_type": "code",
      "execution_count": null,
      "metadata": {
        "id": "JgvnhcO1vzpp"
      },
      "outputs": [],
      "source": [
        "fig = plt.figure()\n",
        "plt.plot(hist.history['loss'], color = 'teal', label = 'loss')\n",
        "plt.plot(hist.history['val_accuracy'], color = 'orange', label = 'val_loss')\n",
        "fig.suptitle('Loss', fontsize = 20)\n",
        "plt.legend(loc = 'upper left')\n",
        "plt.show()\n"
      ]
    },
    {
      "cell_type": "code",
      "execution_count": null,
      "metadata": {
        "id": "sBnmv1Rlvzpp"
      },
      "outputs": [],
      "source": [
        "fig = plt.figure()\n",
        "plt.plot(hist.history['accuracy'], color = 'teal', label = 'accuracy')\n",
        "plt.plot(hist.history['val_accuracy'], color = 'orange', label = 'val_accuracy')\n",
        "fig.suptitle('Accuracy', fontsize = 20)\n",
        "plt.legend(loc = 'upper left')\n",
        "plt.show()"
      ]
    },
    {
      "cell_type": "code",
      "execution_count": null,
      "metadata": {
        "id": "DCv8SOnsvzpp"
      },
      "outputs": [],
      "source": []
    }
  ],
  "metadata": {
    "colab": {
      "provenance": [],
      "include_colab_link": true
    },
    "kernelspec": {
      "display_name": "Python 3",
      "name": "python3"
    },
    "language_info": {
      "codemirror_mode": {
        "name": "ipython",
        "version": 3
      },
      "file_extension": ".py",
      "mimetype": "text/x-python",
      "name": "python",
      "nbconvert_exporter": "python",
      "pygments_lexer": "ipython3",
      "version": "3.11.5"
    }
  },
  "nbformat": 4,
  "nbformat_minor": 0
}