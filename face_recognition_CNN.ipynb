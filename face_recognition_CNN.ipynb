{
 "cells": [
  {
   "cell_type": "code",
   "execution_count": 1,
   "metadata": {
    "id": "3TTbWhVQoTDA"
   },
   "outputs": [
    {
     "name": "stderr",
     "output_type": "stream",
     "text": [
      "2024-01-16 12:49:44.120112: I tensorflow/core/platform/cpu_feature_guard.cc:182] This TensorFlow binary is optimized to use available CPU instructions in performance-critical operations.\n",
      "To enable the following instructions: AVX2 FMA, in other operations, rebuild TensorFlow with the appropriate compiler flags.\n",
      "/var/folders/wm/27t26d7s19x9dw6pqtmxtdch0000gn/T/ipykernel_55085/422864936.py:6: DeprecationWarning: 'imghdr' is deprecated and slated for removal in Python 3.13\n",
      "  import imghdr\n"
     ]
    }
   ],
   "source": [
    "import numpy as np\n",
    "import pandas as pd\n",
    "import tensorflow as tf\n",
    "import os\n",
    "import cv2\n",
    "import imghdr\n",
    "from imutils import paths\n",
    "from matplotlib import pyplot as plt\n",
    "import shutil\n",
    "from sklearn.model_selection import train_test_split\n",
    "#from tensorflow.keras.datasets import cifar10"
   ]
  },
  {
   "cell_type": "markdown",
   "metadata": {},
   "source": [
    "## Dela i subklassar efter den minsta klassen"
   ]
  },
  {
   "cell_type": "code",
   "execution_count": 46,
   "metadata": {},
   "outputs": [
    {
     "name": "stdout",
     "output_type": "stream",
     "text": [
      "File not found and skipped: /Users/yari/2023/Applicerad_AI/fairfacedata/fairface_images/28544.jpg\n",
      "File not found and skipped: /Users/yari/2023/Applicerad_AI/fairfacedata/fairface_images/3339.jpg\n"
     ]
    }
   ],
   "source": [
    "data = pd.read_csv('fairface.csv')\n",
    "\n",
    "main_directory = '/Users/yari/2023/Applicerad_AI/fairfacedata/fairface_images'\n",
    "structured_directory = '/Users/yari/2023/Applicerad_AI/fairfacedata/stractured_directory'\n",
    "\n",
    "file_count_per_gender = data['race'].value_counts().min()\n",
    "\n",
    "# Dictionary to track the number of files in each subfolder\n",
    "file_counts = dict.fromkeys(data['race'].unique(), 0)\n",
    "\n",
    "for index, row in data.iterrows():\n",
    "    gender = row['race']\n",
    "    # Only proceed if the limit for this subfolder has not been reached\n",
    "    if file_counts[gender] < file_count_per_gender:\n",
    "        source = os.path.join(main_directory, row['file'])\n",
    "        gender_dir = os.path.join(structured_directory, gender)\n",
    "        if not os.path.exists(gender_dir):\n",
    "            os.makedirs(gender_dir)\n",
    "        destination = os.path.join(gender_dir, row['file'])\n",
    "        if os.path.exists(source):\n",
    "            shutil.copy(source, destination)\n",
    "            file_counts[gender] += 1\n",
    "        else:\n",
    "            print(f'File not found and skipped: {source}')"
   ]
  },
  {
   "cell_type": "markdown",
   "metadata": {},
   "source": [
    "## dela bilderna i subklasser"
   ]
  },
  {
   "cell_type": "code",
   "execution_count": 177,
   "metadata": {},
   "outputs": [
    {
     "name": "stdout",
     "output_type": "stream",
     "text": [
      "file could not be found and skipped: /Users/yari/2023/Applicerad_AI/fairfacedata/fairface_images/28544.jpg\n",
      "file could not be found and skipped: /Users/yari/2023/Applicerad_AI/fairfacedata/fairface_images/31948.jpg\n",
      "file could not be found and skipped: /Users/yari/2023/Applicerad_AI/fairfacedata/fairface_images/3339.jpg\n",
      "file could not be found and skipped: /Users/yari/2023/Applicerad_AI/fairfacedata/fairface_images/34114.jpg\n",
      "file could not be found and skipped: /Users/yari/2023/Applicerad_AI/fairfacedata/fairface_images/47808.jpg\n",
      "file could not be found and skipped: /Users/yari/2023/Applicerad_AI/fairfacedata/fairface_images/56453.jpg\n"
     ]
    }
   ],
   "source": [
    "import shutil\n",
    "\n",
    "data = pd.read_csv('fairface.csv')\n",
    "\n",
    "main_directory = '/Users/yari/2023/Applicerad_AI/fairfacedata/fairface_images'\n",
    "structured_directory = '/Users/yari/2023/Applicerad_AI/fairfacedata/gender_classes'\n",
    "\n",
    "for index, row in data.iterrows():\n",
    "    source = os.path.join(main_directory, row['file'])\n",
    "    race_dir = os.path.join(structured_directory, row['gender'])\n",
    "    if not os.path.exists(race_dir):\n",
    "        os.makedirs(race_dir)\n",
    "    destination = os.path.join(race_dir, row['file'])\n",
    "    if os.path.exists(source):\n",
    "        shutil.copy(source, destination)\n",
    "    else:\n",
    "        print(f'file could not be found and skipped: {source}')\n"
   ]
  },
  {
   "cell_type": "markdown",
   "metadata": {},
   "source": [
    "## Split i train test och validation sets"
   ]
  },
  {
   "cell_type": "code",
   "execution_count": 625,
   "metadata": {},
   "outputs": [
    {
     "name": "stdout",
     "output_type": "stream",
     "text": [
      "Class 'test' has less than 2 images; skipping split.\n",
      "Class 'train' has less than 2 images; skipping split.\n",
      "Class 'val' has less than 2 images; skipping split.\n",
      "Dataset successfully split into training, validation, and testing sets.\n"
     ]
    }
   ],
   "source": [
    "base_dir = '/Users/yari/2023/Applicerad_AI/fairfacedata/race_classes'\n",
    "# Directories for train test and split sets \n",
    "train_dir = os.path.join(base_dir, 'train')\n",
    "val_dir = os.path.join(base_dir, 'val') \n",
    "test_dir = os.path.join(base_dir, 'test')\n",
    "\n",
    "# Define the split sizes\n",
    "train_split_size = 0.7\n",
    "val_split_size = 0.15  \n",
    "test_split_size = 0.15  \n",
    "min_images_to_split = 2\n",
    "\n",
    "os.makedirs(train_dir, exist_ok=True)\n",
    "os.makedirs(val_dir, exist_ok=True) \n",
    "os.makedirs(test_dir, exist_ok=True)\n",
    "\n",
    "for class_name in os.listdir(base_dir):\n",
    "    if class_name.startswith('.'):\n",
    "        continue\n",
    "\n",
    "    class_dir = os.path.join(base_dir, class_name)\n",
    "    if os.path.isdir(class_dir):\n",
    "        os.makedirs(os.path.join(train_dir, class_name), exist_ok=True)\n",
    "        os.makedirs(os.path.join(val_dir, class_name), exist_ok=True) \n",
    "        os.makedirs(os.path.join(test_dir, class_name), exist_ok=True)\n",
    "        \n",
    "        files = [f for f in os.listdir(class_dir) if os.path.isfile(os.path.join(class_dir, f))]\n",
    "        \n",
    "        if len(files) >= min_images_to_split:\n",
    "            # First split into training and temp (which will be further split into validation and test)\n",
    "            train_files, temp_files = train_test_split(files, test_size=(val_split_size + test_split_size))\n",
    "            \n",
    "            # Now split the temp set into validation and test sets\n",
    "            val_files, test_files = train_test_split(temp_files, test_size=test_split_size/(val_split_size + test_split_size))\n",
    "\n",
    "            # Copy files into respective directories\n",
    "            for f in train_files:\n",
    "                shutil.copy(os.path.join(class_dir, f), os.path.join(train_dir, class_name))\n",
    "            for f in val_files:\n",
    "                shutil.copy(os.path.join(class_dir, f), os.path.join(val_dir, class_name))\n",
    "            for f in test_files:\n",
    "                shutil.copy(os.path.join(class_dir, f), os.path.join(test_dir, class_name))\n",
    "        else:\n",
    "            print(f\"Class '{class_name}' has less than {min_images_to_split} images; skipping split.\")\n",
    "\n",
    "print(\"Dataset successfully split into training, validation, and testing sets.\")\n",
    "\n"
   ]
  },
  {
   "cell_type": "code",
   "execution_count": 316,
   "metadata": {},
   "outputs": [
    {
     "data": {
      "text/html": [
       "<div>\n",
       "<style scoped>\n",
       "    .dataframe tbody tr th:only-of-type {\n",
       "        vertical-align: middle;\n",
       "    }\n",
       "\n",
       "    .dataframe tbody tr th {\n",
       "        vertical-align: top;\n",
       "    }\n",
       "\n",
       "    .dataframe thead th {\n",
       "        text-align: right;\n",
       "    }\n",
       "</style>\n",
       "<table border=\"1\" class=\"dataframe\">\n",
       "  <thead>\n",
       "    <tr style=\"text-align: right;\">\n",
       "      <th></th>\n",
       "      <th>file</th>\n",
       "      <th>age</th>\n",
       "      <th>gender</th>\n",
       "      <th>race</th>\n",
       "      <th>phototype</th>\n",
       "    </tr>\n",
       "  </thead>\n",
       "  <tbody>\n",
       "    <tr>\n",
       "      <th>0</th>\n",
       "      <td>1.jpg</td>\n",
       "      <td>50-59</td>\n",
       "      <td>Male</td>\n",
       "      <td>East Asian</td>\n",
       "      <td>III</td>\n",
       "    </tr>\n",
       "    <tr>\n",
       "      <th>1</th>\n",
       "      <td>10.jpg</td>\n",
       "      <td>30-39</td>\n",
       "      <td>Male</td>\n",
       "      <td>Middle Eastern</td>\n",
       "      <td>V</td>\n",
       "    </tr>\n",
       "    <tr>\n",
       "      <th>2</th>\n",
       "      <td>100.jpg</td>\n",
       "      <td>20-29</td>\n",
       "      <td>Female</td>\n",
       "      <td>East Asian</td>\n",
       "      <td>III</td>\n",
       "    </tr>\n",
       "    <tr>\n",
       "      <th>3</th>\n",
       "      <td>1000.jpg</td>\n",
       "      <td>30-39</td>\n",
       "      <td>Male</td>\n",
       "      <td>White</td>\n",
       "      <td>I &amp; II</td>\n",
       "    </tr>\n",
       "    <tr>\n",
       "      <th>4</th>\n",
       "      <td>10004.jpg</td>\n",
       "      <td>40-49</td>\n",
       "      <td>Male</td>\n",
       "      <td>Indian</td>\n",
       "      <td>V</td>\n",
       "    </tr>\n",
       "  </tbody>\n",
       "</table>\n",
       "</div>"
      ],
      "text/plain": [
       "        file    age  gender            race phototype\n",
       "0      1.jpg  50-59    Male      East Asian       III\n",
       "1     10.jpg  30-39    Male  Middle Eastern         V\n",
       "2    100.jpg  20-29  Female      East Asian       III\n",
       "3   1000.jpg  30-39    Male           White    I & II\n",
       "4  10004.jpg  40-49    Male          Indian         V"
      ]
     },
     "execution_count": 316,
     "metadata": {},
     "output_type": "execute_result"
    }
   ],
   "source": [
    "data.head()"
   ]
  },
  {
   "cell_type": "code",
   "execution_count": 626,
   "metadata": {
    "id": "m510SbSQ0RA2"
   },
   "outputs": [],
   "source": [
    "trainingpath = '/Users/yari/2023/Applicerad_AI/fairfacedata/race_classes/train'\n",
    "testpath = '/Users/yari/2023/Applicerad_AI/fairfacedata/race_classes/test'\n",
    "validation = '/Users/yari/2023/Applicerad_AI/fairfacedata/race_classes/val'"
   ]
  },
  {
   "cell_type": "markdown",
   "metadata": {
    "id": "a-zPe-O1vzpY"
   },
   "source": [
    "# image preprocessing"
   ]
  },
  {
   "cell_type": "code",
   "execution_count": 627,
   "metadata": {
    "id": "7H79J-X700ow"
   },
   "outputs": [],
   "source": [
    "def custom_augmentation(image):\n",
    "    #image = rotate_image(image, angle=np.random.randint(-15, 15))\n",
    "    #image = crop_image(image)\n",
    "    if np.random.rand() < 0.3:\n",
    "        image = blur_image(image, k_size=5)\n",
    "    return image"
   ]
  },
  {
   "cell_type": "markdown",
   "metadata": {
    "id": "LqoSikSm0-_j"
   },
   "source": [
    "## splitting the data into train and test sets"
   ]
  },
  {
   "cell_type": "code",
   "execution_count": 650,
   "metadata": {
    "colab": {
     "base_uri": "https://localhost:8080/"
    },
    "id": "UjWW7wTq00sp",
    "outputId": "8826b2f7-0c03-403e-89c3-a3530c889155"
   },
   "outputs": [
    {
     "name": "stdout",
     "output_type": "stream",
     "text": [
      "Found 32239 images belonging to 7 classes.\n",
      "Found 9862 images belonging to 7 classes.\n",
      "Found 9835 images belonging to 7 classes.\n"
     ]
    }
   ],
   "source": [
    "from keras.preprocessing.image import ImageDataGenerator\n",
    "\n",
    "target_size = (128, 128)\n",
    "train_datagen = ImageDataGenerator(\n",
    "    rescale=1./255,\n",
    "    rotation_range=20,  # degrees\n",
    "    width_shift_range=0.1,  # fraction of total width\n",
    "    height_shift_range=0.1,  # fraction of total height\n",
    "    shear_range=0.2,\n",
    "    zoom_range=0.1,\n",
    "    horizontal_flip=True,\n",
    "    brightness_range=[0.8,1.2],  # Varies brightness between 80% and 120%\n",
    "    fill_mode='nearest'\n",
    "    )\n",
    "\n",
    "test_datagen = ImageDataGenerator(rescale=1./255)\n",
    "\n",
    "\n",
    "val_datagen = ImageDataGenerator(rescale = 1./255)\n",
    "\n",
    "training_set = train_datagen.flow_from_directory(\n",
    "        trainingpath,\n",
    "        target_size=target_size,\n",
    "        batch_size=32,\n",
    "        class_mode='categorical',\n",
    "        shuffle = True\n",
    "        )\n",
    "\n",
    "test_set = test_datagen.flow_from_directory(\n",
    "        testpath,\n",
    "        target_size=target_size,\n",
    "        batch_size=32,\n",
    "        class_mode='categorical',\n",
    "        shuffle = False\n",
    "        )\n",
    "\n",
    "validation_set = val_datagen.flow_from_directory(\n",
    "        validation,\n",
    "        target_size = target_size,\n",
    "        batch_size = 32,\n",
    "        class_mode = 'categorical',\n",
    "        shuffle = False\n",
    "        )"
   ]
  },
  {
   "cell_type": "code",
   "execution_count": null,
   "metadata": {},
   "outputs": [],
   "source": []
  },
  {
   "cell_type": "code",
   "execution_count": null,
   "metadata": {},
   "outputs": [],
   "source": []
  },
  {
   "cell_type": "markdown",
   "metadata": {
    "id": "rAY7QdNu1PFj"
   },
   "source": [
    "## plotting a sample batch\n"
   ]
  },
  {
   "cell_type": "code",
   "execution_count": 651,
   "metadata": {
    "colab": {
     "base_uri": "https://localhost:8080/"
    },
    "id": "zqpKwp6I00wn",
    "outputId": "3c32e840-d764-4157-ceef-806166bb8b4d"
   },
   "outputs": [
    {
     "name": "stdout",
     "output_type": "stream",
     "text": [
      "Found 32239 images belonging to 7 classes.\n"
     ]
    }
   ],
   "source": [
    "import matplotlib.pyplot as plt\n",
    "temp_generator = train_datagen.flow_from_directory(\n",
    "    trainingpath,\n",
    "    target_size=target_size,\n",
    "    batch_size=1,\n",
    "    class_mode='categorical'\n",
    ")"
   ]
  },
  {
   "cell_type": "code",
   "execution_count": null,
   "metadata": {
    "colab": {
     "base_uri": "https://localhost:8080/",
     "height": 1000
    },
    "id": "2cDJy17N1VZE",
    "outputId": "f015371a-c51a-417f-9226-4179485a8e4c",
    "scrolled": true
   },
   "outputs": [],
   "source": [
    "for i in range(10):\n",
    "    img, label = temp_generator.next()\n",
    "    img = img[0]\n",
    "    plt.imshow(img)\n",
    "    plt.title(f\"Sample {i+1}\")\n",
    "    plt.show()"
   ]
  },
  {
   "cell_type": "code",
   "execution_count": 653,
   "metadata": {
    "colab": {
     "base_uri": "https://localhost:8080/"
    },
    "id": "ytiQOqP-1YHT",
    "outputId": "67aabe26-6399-49a1-e302-cfea4453632f"
   },
   "outputs": [
    {
     "data": {
      "text/plain": [
       "{'Black': 0,\n",
       " 'East Asian': 1,\n",
       " 'Indian': 2,\n",
       " 'Latino_Hispanic': 3,\n",
       " 'Middle Eastern': 4,\n",
       " 'Southeast Asian': 5,\n",
       " 'White': 6}"
      ]
     },
     "execution_count": 653,
     "metadata": {},
     "output_type": "execute_result"
    }
   ],
   "source": [
    "test_set.class_indices"
   ]
  },
  {
   "cell_type": "code",
   "execution_count": 654,
   "metadata": {
    "id": "9sDVYVsf1YMQ"
   },
   "outputs": [],
   "source": [
    "TrainClasses=training_set.class_indices"
   ]
  },
  {
   "cell_type": "code",
   "execution_count": 655,
   "metadata": {
    "colab": {
     "base_uri": "https://localhost:8080/"
    },
    "id": "hHR6BZ_c1YP9",
    "outputId": "4ee8a2d6-455b-4933-c16a-064d668b16d2"
   },
   "outputs": [
    {
     "name": "stdout",
     "output_type": "stream",
     "text": [
      "{'Black': 0, 'East Asian': 1, 'Indian': 2, 'Latino_Hispanic': 3, 'Middle Eastern': 4, 'Southeast Asian': 5, 'White': 6}\n"
     ]
    }
   ],
   "source": [
    "print(TrainClasses)"
   ]
  },
  {
   "cell_type": "code",
   "execution_count": 656,
   "metadata": {
    "id": "lboN6P7v1oZq"
   },
   "outputs": [],
   "source": [
    "ResultMap={}\n",
    "for faceValue,faceName in zip(TrainClasses.values(),TrainClasses.keys()):\n",
    "    ResultMap[faceValue]=faceName"
   ]
  },
  {
   "cell_type": "code",
   "execution_count": 657,
   "metadata": {
    "id": "a8NWChbR1odg"
   },
   "outputs": [],
   "source": [
    "import pickle\n",
    "with open(\"ResultsMap.pkl\", 'wb') as fileWriteStream:\n",
    "    pickle.dump(ResultMap, fileWriteStream)"
   ]
  },
  {
   "cell_type": "code",
   "execution_count": 658,
   "metadata": {
    "colab": {
     "base_uri": "https://localhost:8080/"
    },
    "id": "sbgJftYN1oh7",
    "outputId": "5823c371-b798-4f5b-c3b2-e60c728e034d"
   },
   "outputs": [
    {
     "name": "stdout",
     "output_type": "stream",
     "text": [
      "Mapping of Face and its ID {0: 'Black', 1: 'East Asian', 2: 'Indian', 3: 'Latino_Hispanic', 4: 'Middle Eastern', 5: 'Southeast Asian', 6: 'White'}\n"
     ]
    }
   ],
   "source": [
    "print(\"Mapping of Face and its ID\",ResultMap)"
   ]
  },
  {
   "cell_type": "code",
   "execution_count": 659,
   "metadata": {
    "colab": {
     "base_uri": "https://localhost:8080/"
    },
    "id": "ioSFjGik1olK",
    "outputId": "7e85c969-a923-4f2e-ab35-6f4c37475370"
   },
   "outputs": [
    {
     "name": "stdout",
     "output_type": "stream",
     "text": [
      "\n",
      " The Number of output neurons:  7\n"
     ]
    }
   ],
   "source": [
    "OutputNeurons=len(ResultMap)\n",
    "print('\\n The Number of output neurons: ', OutputNeurons)"
   ]
  },
  {
   "cell_type": "markdown",
   "metadata": {
    "id": "-578gPqm1xra"
   },
   "source": [
    "# Creating CNN model"
   ]
  },
  {
   "cell_type": "code",
   "execution_count": 660,
   "metadata": {
    "id": "djpieddv1wSX"
   },
   "outputs": [],
   "source": [
    "from keras.models import Sequential\n",
    "from keras.layers import Conv2D, BatchNormalization, MaxPooling2D, Flatten, Dense, Dropout"
   ]
  },
  {
   "cell_type": "code",
   "execution_count": 661,
   "metadata": {
    "id": "a32suBk21wW2"
   },
   "outputs": [],
   "source": [
    "input_shape = (128, 128, 3)\n",
    "\n",
    "classifier = Sequential()\n",
    "\n",
    "\n",
    "classifier.add(Conv2D(32, (3, 3), activation='relu', input_shape=input_shape))\n",
    "classifier.add(BatchNormalization())\n",
    "classifier.add(MaxPooling2D(pool_size=(2, 2)))\n",
    "\n",
    "classifier.add(Conv2D(64, (3, 3), activation='relu'))\n",
    "classifier.add(BatchNormalization())\n",
    "classifier.add(MaxPooling2D(pool_size=(2, 2)))\n",
    "\n",
    "classifier.add(Conv2D(128, (3, 3), activation='relu'))\n",
    "classifier.add(BatchNormalization())\n",
    "classifier.add(MaxPooling2D(pool_size=(2, 2)))\n",
    "\n",
    "classifier.add(Conv2D(256, (3, 3), activation='relu'))\n",
    "classifier.add(BatchNormalization())\n",
    "classifier.add(MaxPooling2D(pool_size=(2, 2)))\n",
    "\n",
    "classifier.add(Flatten())\n",
    "classifier.add(Dense(256, activation='relu'))\n",
    "classifier.add(Dropout(0.01))\n",
    "classifier.add(Dense(OutputNeurons, activation='softmax'))\n",
    "\n",
    "classifier.compile(optimizer='adam', loss='categorical_crossentropy', metrics=['accuracy'])\n"
   ]
  },
  {
   "cell_type": "code",
   "execution_count": 662,
   "metadata": {
    "colab": {
     "base_uri": "https://localhost:8080/"
    },
    "id": "oxm4B6Gg1wj2",
    "outputId": "a93e281a-ae74-4749-e1f2-ee664cc38a88"
   },
   "outputs": [
    {
     "name": "stdout",
     "output_type": "stream",
     "text": [
      "Model: \"sequential_32\"\n",
      "_________________________________________________________________\n",
      " Layer (type)                Output Shape              Param #   \n",
      "=================================================================\n",
      " conv2d_122 (Conv2D)         (None, 126, 126, 32)      896       \n",
      "                                                                 \n",
      " batch_normalization_104 (B  (None, 126, 126, 32)      128       \n",
      " atchNormalization)                                              \n",
      "                                                                 \n",
      " max_pooling2d_122 (MaxPool  (None, 63, 63, 32)        0         \n",
      " ing2D)                                                          \n",
      "                                                                 \n",
      " conv2d_123 (Conv2D)         (None, 61, 61, 64)        18496     \n",
      "                                                                 \n",
      " batch_normalization_105 (B  (None, 61, 61, 64)        256       \n",
      " atchNormalization)                                              \n",
      "                                                                 \n",
      " max_pooling2d_123 (MaxPool  (None, 30, 30, 64)        0         \n",
      " ing2D)                                                          \n",
      "                                                                 \n",
      " conv2d_124 (Conv2D)         (None, 28, 28, 128)       73856     \n",
      "                                                                 \n",
      " batch_normalization_106 (B  (None, 28, 28, 128)       512       \n",
      " atchNormalization)                                              \n",
      "                                                                 \n",
      " max_pooling2d_124 (MaxPool  (None, 14, 14, 128)       0         \n",
      " ing2D)                                                          \n",
      "                                                                 \n",
      " conv2d_125 (Conv2D)         (None, 12, 12, 256)       295168    \n",
      "                                                                 \n",
      " batch_normalization_107 (B  (None, 12, 12, 256)       1024      \n",
      " atchNormalization)                                              \n",
      "                                                                 \n",
      " max_pooling2d_125 (MaxPool  (None, 6, 6, 256)         0         \n",
      " ing2D)                                                          \n",
      "                                                                 \n",
      " flatten_32 (Flatten)        (None, 9216)              0         \n",
      "                                                                 \n",
      " dense_55 (Dense)            (None, 256)               2359552   \n",
      "                                                                 \n",
      " dropout_26 (Dropout)        (None, 256)               0         \n",
      "                                                                 \n",
      " dense_56 (Dense)            (None, 7)                 1799      \n",
      "                                                                 \n",
      "=================================================================\n",
      "Total params: 2751687 (10.50 MB)\n",
      "Trainable params: 2750727 (10.49 MB)\n",
      "Non-trainable params: 960 (3.75 KB)\n",
      "_________________________________________________________________\n"
     ]
    }
   ],
   "source": [
    "classifier.summary()"
   ]
  },
  {
   "cell_type": "code",
   "execution_count": 663,
   "metadata": {},
   "outputs": [],
   "source": [
    "from keras.callbacks import EarlyStopping, ModelCheckpoint\n",
    "model_checkpoint = ModelCheckpoint(\n",
    "    '/Users/yari/2023/Applicerad_AI/fairfacedata/race_classes/best_race_model.h5',\n",
    "    monitor='val_loss',  \n",
    "    save_best_only=True, \n",
    "    mode='min',          \n",
    "    verbose=1\n",
    ")"
   ]
  },
  {
   "cell_type": "code",
   "execution_count": null,
   "metadata": {
    "colab": {
     "base_uri": "https://localhost:8080/",
     "height": 426
    },
    "id": "Vax46rpX2IW9",
    "outputId": "ebcd095d-db41-4c48-915e-cf3a42c8e451"
   },
   "outputs": [
    {
     "name": "stdout",
     "output_type": "stream",
     "text": [
      "Epoch 1/15\n",
      " 874/1007 [=========================>....] - ETA: 3:36 - loss: 1.7191 - accuracy: 0.3618"
     ]
    }
   ],
   "source": [
    "import time\n",
    "early_stopping = EarlyStopping(monitor='accuracy', min_delta=0.0001, patience=10, mode='min', verbose=1)\n",
    "\n",
    "StartTime = time.time()\n",
    "classifier.fit(\n",
    "                    training_set,\n",
    "                    steps_per_epoch=training_set.samples // training_set.batch_size,\n",
    "                    epochs=15,\n",
    "                    validation_data=validation_set,\n",
    "                    validation_steps=validation_set.samples // validation_set.batch_size,\n",
    "                    callbacks=[early_stopping, model_checkpoint]\n",
    "                    )\n",
    "\n",
    "EndTime=time.time()\n",
    "print(\"###### Total Time Taken: \", round((EndTime-StartTime)/60), 'Minutes ######')"
   ]
  },
  {
   "cell_type": "code",
   "execution_count": 614,
   "metadata": {},
   "outputs": [],
   "source": [
    "from sklearn.metrics import confusion_matrix, classification_report\n",
    "import seaborn as sns"
   ]
  },
  {
   "cell_type": "code",
   "execution_count": 644,
   "metadata": {},
   "outputs": [
    {
     "name": "stdout",
     "output_type": "stream",
     "text": [
      "167/167 [==============================] - 215s 1s/step\n"
     ]
    }
   ],
   "source": [
    "test_set.reset()\n",
    "y_pred = classifier.predict(test_set, steps=len(test_set))\n",
    "y_pred_classes = np.argmax(y_pred, axis=1)"
   ]
  },
  {
   "cell_type": "code",
   "execution_count": null,
   "metadata": {},
   "outputs": [],
   "source": [
    "y_true = test_set.class_indices\n",
    "test_loss, test_accuracy = classifier.evaluate(\n",
    "    test_set,\n",
    "    steps=test_set.samples // test_set.batch_size\n",
    ")\n",
    "print(\"Test accuracy:\", test_accuracy)\n"
   ]
  },
  {
   "cell_type": "code",
   "execution_count": 647,
   "metadata": {},
   "outputs": [
    {
     "data": {
      "text/plain": [
       "array([[8.86741281e-01, 2.90847337e-03, 9.04872194e-02, ...,\n",
       "        1.28924951e-03, 1.00336252e-02, 6.05871901e-04],\n",
       "       [8.26227188e-01, 1.37744378e-02, 9.70096961e-02, ...,\n",
       "        3.94953741e-03, 3.36048789e-02, 2.55547138e-03],\n",
       "       [5.31949341e-01, 3.22239362e-02, 2.11921275e-01, ...,\n",
       "        2.92628929e-02, 4.61671315e-02, 3.61665674e-02],\n",
       "       ...,\n",
       "       [6.26699403e-02, 6.25905171e-02, 9.24381837e-02, ...,\n",
       "        1.13237344e-01, 3.85372639e-02, 3.54469121e-01],\n",
       "       [5.80846407e-02, 8.21673572e-02, 7.55328014e-02, ...,\n",
       "        1.09703518e-01, 4.87035736e-02, 3.47966850e-01],\n",
       "       [5.18728197e-01, 4.37169112e-02, 1.87249005e-01, ...,\n",
       "        3.06106340e-02, 6.01229407e-02, 3.85932364e-02]], dtype=float32)"
      ]
     },
     "execution_count": 647,
     "metadata": {},
     "output_type": "execute_result"
    }
   ],
   "source": [
    "y_pred"
   ]
  },
  {
   "cell_type": "code",
   "execution_count": null,
   "metadata": {},
   "outputs": [],
   "source": [
    "conf_matrix = confusion_matrix(y_true, y_pred_classes)"
   ]
  },
  {
   "cell_type": "code",
   "execution_count": 649,
   "metadata": {},
   "outputs": [
    {
     "data": {
      "image/png": "[encoded data removed]",
      "text/plain": [
       "<Figure size 1000x1000 with 2 Axes>"
      ]
     },
     "metadata": {},
     "output_type": "display_data"
    }
   ],
   "source": [
    "plt.figure(figsize=(10, 10))\n",
    "sns.heatmap(conf_matrix, annot=True, fmt=\"d\")\n",
    "plt.title(\"Confusion matrix\")\n",
    "plt.ylabel('Faktisk klass')\n",
    "plt.xlabel('Förutsagd klass')\n",
    "plt.show()\n",
    "\n",
    "\n"
   ]
  },
  {
   "cell_type": "code",
   "execution_count": 621,
   "metadata": {},
   "outputs": [
    {
     "data": {
      "text/plain": [
       "array([[2098,  559],\n",
       "       [ 491, 2166]])"
      ]
     },
     "execution_count": 621,
     "metadata": {},
     "output_type": "execute_result"
    }
   ],
   "source": [
    "conf_matrix"
   ]
  },
  {
   "cell_type": "code",
   "execution_count": 622,
   "metadata": {},
   "outputs": [
    {
     "name": "stdout",
     "output_type": "stream",
     "text": [
      "Female 2657\n",
      "Male 2657\n"
     ]
    }
   ],
   "source": [
    "for cls in test_set.class_indices:\n",
    "    print(cls, (y_true == test_set.class_indices[cls]).sum())"
   ]
  },
  {
   "cell_type": "code",
   "execution_count": 623,
   "metadata": {},
   "outputs": [
    {
     "name": "stdout",
     "output_type": "stream",
     "text": [
      "              precision    recall  f1-score   support\n",
      "\n",
      "           0       0.81      0.79      0.80      2657\n",
      "           1       0.79      0.82      0.80      2657\n",
      "\n",
      "    accuracy                           0.80      5314\n",
      "   macro avg       0.80      0.80      0.80      5314\n",
      "weighted avg       0.80      0.80      0.80      5314\n",
      "\n"
     ]
    }
   ],
   "source": [
    "print(classification_report(y_true, y_pred_classes))"
   ]
  },
  {
   "cell_type": "code",
   "execution_count": null,
   "metadata": {},
   "outputs": [],
   "source": []
  },
  {
   "cell_type": "code",
   "execution_count": null,
   "metadata": {},
   "outputs": [],
   "source": []
  },
  {
   "cell_type": "code",
   "execution_count": 387,
   "metadata": {},
   "outputs": [
    {
     "name": "stdout",
     "output_type": "stream",
     "text": [
      "Found 35424 files belonging to 7 classes.\n"
     ]
    }
   ],
   "source": [
    "images = tf.keras.utils.image_dataset_from_directory('/Users/yari/2023/Applicerad_AI/fairfacedata/structured_images (kopia 2)',\n",
    "                                                    image_size=(64, 64)\n",
    ")"
   ]
  },
  {
   "cell_type": "code",
   "execution_count": 265,
   "metadata": {},
   "outputs": [
    {
     "data": {
      "text/plain": [
       "(32, 64, 64, 3)"
      ]
     },
     "execution_count": 265,
     "metadata": {},
     "output_type": "execute_result"
    }
   ],
   "source": [
    "image_iterator = images.as_numpy_iterator()\n",
    "#batch = image_iterator.next()\n",
    "#images represented as numpy array\n",
    "batch[0].shape"
   ]
  },
  {
   "cell_type": "code",
   "execution_count": 266,
   "metadata": {},
   "outputs": [
    {
     "data": {
      "text/plain": [
       "array([6, 3, 6, 3, 0, 1, 2, 1, 1, 6, 2, 2, 0, 3, 6, 0, 3, 1, 0, 0, 6, 1,\n",
       "       2, 0, 0, 6, 0, 6, 0, 0, 3, 3], dtype=int32)"
      ]
     },
     "execution_count": 266,
     "metadata": {},
     "output_type": "execute_result"
    }
   ],
   "source": [
    "batch[1]"
   ]
  },
  {
   "cell_type": "code",
   "execution_count": 267,
   "metadata": {},
   "outputs": [],
   "source": [
    "# ska skala ner datan\n",
    "scaled_images = images.map(lambda x, y: (x/255, y))\n",
    "scaled_image_iterator = scaled_images.as_numpy_iterator()"
   ]
  },
  {
   "cell_type": "code",
   "execution_count": 268,
   "metadata": {},
   "outputs": [
    {
     "data": {
      "text/plain": [
       "1.0"
      ]
     },
     "execution_count": 268,
     "metadata": {},
     "output_type": "execute_result"
    }
   ],
   "source": [
    "batch = scaled_image_iterator.next()\n",
    "batch[0].max()"
   ]
  },
  {
   "cell_type": "code",
   "execution_count": 269,
   "metadata": {},
   "outputs": [
    {
     "data": {
      "image/png": "[encoded data removed]",
      "text/plain": [
       "<Figure size 1000x1000 with 11 Axes>"
      ]
     },
     "metadata": {},
     "output_type": "display_data"
    }
   ],
   "source": [
    "fig, ax = plt.subplots(ncols=11, figsize = (10,10))\n",
    "for idx, img in enumerate(batch[0][:11]):\n",
    "    ax[idx].imshow(img)\n",
    "    ax[idx].title.set_text(batch[1][idx])"
   ]
  },
  {
   "cell_type": "code",
   "execution_count": 273,
   "metadata": {},
   "outputs": [],
   "source": [
    "total_images = len(images)* 32"
   ]
  },
  {
   "cell_type": "code",
   "execution_count": 274,
   "metadata": {},
   "outputs": [
    {
     "data": {
      "text/plain": [
       "35424"
      ]
     },
     "execution_count": 274,
     "metadata": {},
     "output_type": "execute_result"
    }
   ],
   "source": [
    "total_images"
   ]
  },
  {
   "cell_type": "code",
   "execution_count": 275,
   "metadata": {},
   "outputs": [
    {
     "name": "stdout",
     "output_type": "stream",
     "text": [
      "Train size: 24796 \n",
      "Test size: 3542 \n",
      "Validation size: 110\n"
     ]
    }
   ],
   "source": [
    "train_size = int(total_images * 0.7)\n",
    "val_size = int(total_images * 0.2)\n",
    "test_size = int(total_images * 0.1)\n",
    "print(f'Train size: {train_size} \\nTest size: {test_size} \\nValidation size: {validate_size}')"
   ]
  },
  {
   "cell_type": "code",
   "execution_count": 276,
   "metadata": {},
   "outputs": [],
   "source": [
    "train = images.take(train_size)\n",
    "test = images.skip(train_size).take(test_size)\n",
    "validate = images.skip(train_size+test_size).take(validate_size)"
   ]
  },
  {
   "cell_type": "code",
   "execution_count": 277,
   "metadata": {},
   "outputs": [],
   "source": [
    "from tensorflow.keras.models import Sequential\n",
    "from tensorflow.keras.layers import Conv2D, MaxPooling2D, Dense , Flatten, Dropout"
   ]
  },
  {
   "cell_type": "code",
   "execution_count": 283,
   "metadata": {},
   "outputs": [],
   "source": [
    "model = Sequential()\n",
    "# adding convolotional layer\n",
    "model.add(Conv2D(16, (5,5),1, activation = 'relu', input_shape = (64,64,3)))\n",
    "model.add(MaxPooling2D())\n",
    "\n",
    "model.add(Conv2D(32, (5,5),1, activation = 'relu'))\n",
    "model.add(MaxPooling2D())\n",
    "\n",
    "model.add(Conv2D(64, (5,5),1, activation = 'relu'))\n",
    "model.add(MaxPooling2D())\n",
    "\n",
    "model.add(Flatten())\n",
    "\n",
    "model.add(Dense(164, activation = 'relu'))\n",
    "model.add(Dense(1, activation = 'softmax'))"
   ]
  },
  {
   "cell_type": "code",
   "execution_count": 284,
   "metadata": {},
   "outputs": [
    {
     "name": "stdout",
     "output_type": "stream",
     "text": [
      "Model: \"sequential_15\"\n",
      "_________________________________________________________________\n",
      " Layer (type)                Output Shape              Param #   \n",
      "=================================================================\n",
      " conv2d_55 (Conv2D)          (None, 60, 60, 16)        1216      \n",
      "                                                                 \n",
      " max_pooling2d_55 (MaxPooli  (None, 30, 30, 16)        0         \n",
      " ng2D)                                                           \n",
      "                                                                 \n",
      " conv2d_56 (Conv2D)          (None, 26, 26, 32)        12832     \n",
      "                                                                 \n",
      " max_pooling2d_56 (MaxPooli  (None, 13, 13, 32)        0         \n",
      " ng2D)                                                           \n",
      "                                                                 \n",
      " conv2d_57 (Conv2D)          (None, 9, 9, 64)          51264     \n",
      "                                                                 \n",
      " max_pooling2d_57 (MaxPooli  (None, 4, 4, 64)          0         \n",
      " ng2D)                                                           \n",
      "                                                                 \n",
      " flatten_15 (Flatten)        (None, 1024)              0         \n",
      "                                                                 \n",
      " dense_21 (Dense)            (None, 164)               168100    \n",
      "                                                                 \n",
      " dense_22 (Dense)            (None, 1)                 165       \n",
      "                                                                 \n",
      "=================================================================\n",
      "Total params: 233577 (912.41 KB)\n",
      "Trainable params: 233577 (912.41 KB)\n",
      "Non-trainable params: 0 (0.00 Byte)\n",
      "_________________________________________________________________\n"
     ]
    }
   ],
   "source": [
    "import tensorflow as tf\n",
    "model.compile(optimizer='adam', loss='categorical_crossentropy', metrics=['accuracy'])\n",
    "model.summary()"
   ]
  },
  {
   "cell_type": "code",
   "execution_count": 285,
   "metadata": {},
   "outputs": [],
   "source": [
    "log_directory= '/Users/yari/2023/Applicerad_AI/fairfacedata/logs'\n",
    "from keras.callbacks import EarlyStopping, ModelCheckpoint\n",
    "model_checkpoint = ModelCheckpoint(\n",
    "    '/Users/yari/2023/Applicerad_AI/fairfacedata/structured_images (kopia 2)/best_race_model.h5',\n",
    "    monitor='val_loss',  \n",
    "    save_best_only=True, \n",
    "    mode='min',          \n",
    "    verbose=1\n",
    ")"
   ]
  },
  {
   "cell_type": "code",
   "execution_count": 286,
   "metadata": {},
   "outputs": [],
   "source": [
    "early_stopping = EarlyStopping(monitor='accuracy', min_delta=0.001, patience=5, mode='min', verbose=1)"
   ]
  },
  {
   "cell_type": "code",
   "execution_count": 287,
   "metadata": {},
   "outputs": [
    {
     "name": "stdout",
     "output_type": "stream",
     "text": [
      "Epoch 1/20\n"
     ]
    },
    {
     "name": "stderr",
     "output_type": "stream",
     "text": [
      "/Users/yari/anaconda3/lib/python3.11/site-packages/tensorflow/python/util/dispatch.py:1260: SyntaxWarning: In loss categorical_crossentropy, expected y_pred.shape to be (batch_size, num_classes) with num_classes > 1. Received: y_pred.shape=(None, 1). Consider using 'binary_crossentropy' if you only have 2 classes.\n",
      "  return dispatch_target(*args, **kwargs)\n"
     ]
    },
    {
     "name": "stdout",
     "output_type": "stream",
     "text": [
      "1107/1107 [==============================] - ETA: 0s - loss: 0.0000e+00 - accuracy: 0.2000"
     ]
    },
    {
     "ename": "ValueError",
     "evalue": "Expected input data to be non-empty.",
     "output_type": "error",
     "traceback": [
      "\u001b[0;31m---------------------------------------------------------------------------\u001b[0m",
      "\u001b[0;31mValueError\u001b[0m                                Traceback (most recent call last)",
      "Cell \u001b[0;32mIn[287], line 1\u001b[0m\n\u001b[0;32m----> 1\u001b[0m hist \u001b[38;5;241m=\u001b[39m model\u001b[38;5;241m.\u001b[39mfit(\n\u001b[1;32m      2\u001b[0m     train, \n\u001b[1;32m      3\u001b[0m     epochs\u001b[38;5;241m=\u001b[39m\u001b[38;5;241m20\u001b[39m, \n\u001b[1;32m      4\u001b[0m     validation_data\u001b[38;5;241m=\u001b[39m validate, \n\u001b[1;32m      5\u001b[0m     callbacks\u001b[38;5;241m=\u001b[39m[early_stopping, model_checkpoint]\n\u001b[1;32m      6\u001b[0m )\n",
      "File \u001b[0;32m~/anaconda3/lib/python3.11/site-packages/keras/src/utils/traceback_utils.py:70\u001b[0m, in \u001b[0;36mfilter_traceback.<locals>.error_handler\u001b[0;34m(*args, **kwargs)\u001b[0m\n\u001b[1;32m     67\u001b[0m     filtered_tb \u001b[38;5;241m=\u001b[39m _process_traceback_frames(e\u001b[38;5;241m.\u001b[39m__traceback__)\n\u001b[1;32m     68\u001b[0m     \u001b[38;5;66;03m# To get the full stack trace, call:\u001b[39;00m\n\u001b[1;32m     69\u001b[0m     \u001b[38;5;66;03m# `tf.debugging.disable_traceback_filtering()`\u001b[39;00m\n\u001b[0;32m---> 70\u001b[0m     \u001b[38;5;28;01mraise\u001b[39;00m e\u001b[38;5;241m.\u001b[39mwith_traceback(filtered_tb) \u001b[38;5;28;01mfrom\u001b[39;00m \u001b[38;5;28;01mNone\u001b[39;00m\n\u001b[1;32m     71\u001b[0m \u001b[38;5;28;01mfinally\u001b[39;00m:\n\u001b[1;32m     72\u001b[0m     \u001b[38;5;28;01mdel\u001b[39;00m filtered_tb\n",
      "File \u001b[0;32m~/anaconda3/lib/python3.11/site-packages/keras/src/engine/data_adapter.py:1319\u001b[0m, in \u001b[0;36mDataHandler.__init__\u001b[0;34m(self, x, y, sample_weight, batch_size, steps_per_epoch, initial_epoch, epochs, shuffle, class_weight, max_queue_size, workers, use_multiprocessing, model, steps_per_execution, distribute, pss_evaluation_shards)\u001b[0m\n\u001b[1;32m   1314\u001b[0m \u001b[38;5;28mself\u001b[39m\u001b[38;5;241m.\u001b[39m_configure_dataset_and_inferred_steps(\n\u001b[1;32m   1315\u001b[0m     strategy, x, steps_per_epoch, class_weight, distribute\n\u001b[1;32m   1316\u001b[0m )\n\u001b[1;32m   1318\u001b[0m \u001b[38;5;28;01mif\u001b[39;00m \u001b[38;5;28mself\u001b[39m\u001b[38;5;241m.\u001b[39m_inferred_steps \u001b[38;5;241m==\u001b[39m \u001b[38;5;241m0\u001b[39m:\n\u001b[0;32m-> 1319\u001b[0m     \u001b[38;5;28;01mraise\u001b[39;00m \u001b[38;5;167;01mValueError\u001b[39;00m(\u001b[38;5;124m\"\u001b[39m\u001b[38;5;124mExpected input data to be non-empty.\u001b[39m\u001b[38;5;124m\"\u001b[39m)\n",
      "\u001b[0;31mValueError\u001b[0m: Expected input data to be non-empty."
     ]
    }
   ],
   "source": [
    "hist = model.fit(\n",
    "    train, \n",
    "    epochs=20, \n",
    "    validation_data= validate, \n",
    "    callbacks=[early_stopping, model_checkpoint]\n",
    ")"
   ]
  },
  {
   "cell_type": "code",
   "execution_count": null,
   "metadata": {},
   "outputs": [],
   "source": []
  },
  {
   "cell_type": "code",
   "execution_count": null,
   "metadata": {},
   "outputs": [],
   "source": []
  },
  {
   "cell_type": "code",
   "execution_count": null,
   "metadata": {},
   "outputs": [],
   "source": []
  }
 ],
 "metadata": {
  "accelerator": "GPU",
  "colab": {
   "gpuType": "T4",
   "machine_shape": "hm",
   "provenance": []
  },
  "kernelspec": {
   "display_name": "Python 3 (ipykernel)",
   "language": "python",
   "name": "python3"
  },
  "language_info": {
   "codemirror_mode": {
    "name": "ipython",
    "version": 3
   },
   "file_extension": ".py",
   "mimetype": "text/x-python",
   "name": "python",
   "nbconvert_exporter": "python",
   "pygments_lexer": "ipython3",
   "version": "3.11.5"
  }
 },
 "nbformat": 4,
 "nbformat_minor": 4
}
