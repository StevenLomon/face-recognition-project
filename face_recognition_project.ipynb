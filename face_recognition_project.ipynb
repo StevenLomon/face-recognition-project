{
  "cells": [
    {
      "cell_type": "markdown",
      "metadata": {
        "id": "view-in-github",
        "colab_type": "text"
      },
      "source": [
        "<a href=\"https://colab.research.google.com/github/StevenLomon/face-recognition-project/blob/CNN-model-development/face_recognition_project.ipynb\" target=\"_parent\"><img src=\"https://colab.research.google.com/assets/colab-badge.svg\" alt=\"Open In Colab\"/></a>"
      ]
    },
    {
      "cell_type": "code",
      "execution_count": 2,
      "metadata": {
        "id": "3TTbWhVQoTDA"
      },
      "outputs": [],
      "source": [
        "import numpy as np\n",
        "import pandas as pd\n",
        "import tensorflow as tf\n",
        "import os\n",
        "import cv2\n",
        "import imghdr\n",
        "from imutils import paths\n",
        "from matplotlib import pyplot as plt\n",
        "#from tensorflow.keras.datasets import cifar10"
      ]
    },
    {
      "cell_type": "code",
      "source": [
        "from google.colab import drive\n",
        "drive.mount('/content/drive')"
      ],
      "metadata": {
        "colab": {
          "base_uri": "https://localhost:8080/"
        },
        "id": "2dG0tN6-SsGk",
        "outputId": "420ea79a-800a-498f-ad4c-91c13753bcff"
      },
      "execution_count": 1,
      "outputs": [
        {
          "output_type": "stream",
          "name": "stdout",
          "text": [
            "Mounted at /content/drive\n"
          ]
        }
      ]
    },
    {
      "cell_type": "code",
      "source": [
        "trainingpath = '/Users/yari/2023/Applicerad_AI/fairfacedata/structured_images/train'\n",
        "testpath = '/Users/yari/2023/Applicerad_AI/fairfacedata/structured_images/test'"
      ],
      "metadata": {
        "id": "m510SbSQ0RA2"
      },
      "execution_count": null,
      "outputs": []
    },
    {
      "cell_type": "markdown",
      "metadata": {
        "id": "a-zPe-O1vzpY"
      },
      "source": [
        "# image preprocessing"
      ]
    },
    {
      "cell_type": "code",
      "execution_count": null,
      "metadata": {
        "id": "eP7CQJkfvzpc"
      },
      "outputs": [],
      "source": [
        "def rotate_image(image, angle):\n",
        "    \"\"\"Rotate the image by a certain angle.\"\"\"\n",
        "    height, width = image.shape[:2]\n",
        "    rotation_matrix = cv2.getRotationMatrix2D((width/2, height/2), angle, 1)\n",
        "    rotated_image = cv2.warpAffine(image, rotation_matrix, (width, height))\n",
        "    return rotated_image"
      ]
    },
    {
      "cell_type": "code",
      "source": [
        "\n",
        "def crop_image(image, start_x=0, start_y=0, target_size=(64, 64)):\n",
        "    \"\"\"Crop the image to a rectangle and resize to the target size.\"\"\"\n",
        "    cropped_image = image[start_y:start_y+target_size[1], start_x:start_x+target_size[0]]\n",
        "    # Resize the image to the target size if it's not already that size\n",
        "    if cropped_image.shape[0] != target_size[1] or cropped_image.shape[1] != target_size[0]:\n",
        "        cropped_image = cv2.resize(cropped_image, target_size, interpolation=cv2.INTER_AREA)\n",
        "    return cropped_image"
      ],
      "metadata": {
        "id": "BGA5bQ9u0a2X"
      },
      "execution_count": null,
      "outputs": []
    },
    {
      "cell_type": "code",
      "source": [
        "def blur_image(image, k_size=5):\n",
        "    \"\"\"Blur the image using Gaussian Blur.\"\"\"\n",
        "    blurred_image = cv2.GaussianBlur(image, (k_size, k_size), 0)\n",
        "    return blurred_image"
      ],
      "metadata": {
        "id": "VEpCDogP0a6a"
      },
      "execution_count": null,
      "outputs": []
    },
    {
      "cell_type": "code",
      "source": [
        "def change_color(image, flag=cv2.COLOR_BGR2GRAY):\n",
        "    \"\"\"Change the color of the image.\"\"\"\n",
        "    # Converting the image to grayscale or another color space\n",
        "    converted_image = cv2.cvtColor(image, flag)\n",
        "    return converted_image"
      ],
      "metadata": {
        "id": "PCkTtEuy0a9v"
      },
      "execution_count": null,
      "outputs": []
    },
    {
      "cell_type": "code",
      "source": [
        "def custom_augmentation(image):\n",
        "    image = rotate_image(image, angle=np.random.randint(-15, 15))\n",
        "    image = crop_image(image)\n",
        "    if np.random.rand() < 0.3:\n",
        "        image = blur_image(image, k_size=5)\n",
        "    return image"
      ],
      "metadata": {
        "id": "7H79J-X700ow"
      },
      "execution_count": null,
      "outputs": []
    },
    {
      "cell_type": "markdown",
      "source": [
        "## splitting the data into train and test sets"
      ],
      "metadata": {
        "id": "LqoSikSm0-_j"
      }
    },
    {
      "cell_type": "code",
      "source": [
        "from keras.preprocessing.image import ImageDataGenerator\n",
        "\n",
        "target_size = (64, 64)\n",
        "train_datagen = ImageDataGenerator(\n",
        "        rescale=1./255,\n",
        "        shear_range=0.1,\n",
        "        zoom_range=0.1,\n",
        "        horizontal_flip=True,\n",
        "        preprocessing_function =custom_augmentation\n",
        "    )\n",
        "\n",
        "test_datagen = ImageDataGenerator(rescale=1./255)\n",
        "\n",
        "\n",
        "\n",
        "training_set = train_datagen.flow_from_directory(\n",
        "        trainingpath,\n",
        "        target_size=target_size,\n",
        "        batch_size=32,\n",
        "        class_mode='categorical')\n",
        "\n",
        "test_set = test_datagen.flow_from_directory(\n",
        "        testpath,\n",
        "        target_size=target_size,\n",
        "        batch_size=32,\n",
        "        class_mode='categorical')"
      ],
      "metadata": {
        "id": "UjWW7wTq00sp"
      },
      "execution_count": null,
      "outputs": []
    },
    {
      "cell_type": "markdown",
      "source": [
        "## plotting a sample batch\n"
      ],
      "metadata": {
        "id": "rAY7QdNu1PFj"
      }
    },
    {
      "cell_type": "code",
      "source": [
        "import matplotlib.pyplot as plt\n",
        "temp_generator = train_datagen.flow_from_directory(\n",
        "    trainingpath,\n",
        "    target_size=target_size,\n",
        "    batch_size=1,\n",
        "    class_mode='categorical'\n",
        ")"
      ],
      "metadata": {
        "id": "zqpKwp6I00wn"
      },
      "execution_count": null,
      "outputs": []
    },
    {
      "cell_type": "code",
      "source": [
        "for i in range(10):\n",
        "    img, label = temp_generator.next()\n",
        "    img = img[0]\n",
        "    plt.imshow(img)\n",
        "    plt.title(f\"Sample {i+1}\")\n",
        "    plt.show()"
      ],
      "metadata": {
        "id": "2cDJy17N1VZE"
      },
      "execution_count": null,
      "outputs": []
    },
    {
      "cell_type": "code",
      "source": [
        "test_set.class_indices"
      ],
      "metadata": {
        "id": "ytiQOqP-1YHT"
      },
      "execution_count": null,
      "outputs": []
    },
    {
      "cell_type": "code",
      "source": [
        "TrainClasses=training_set.class_indices"
      ],
      "metadata": {
        "id": "9sDVYVsf1YMQ"
      },
      "execution_count": null,
      "outputs": []
    },
    {
      "cell_type": "code",
      "source": [
        "print(TrainClasses)"
      ],
      "metadata": {
        "id": "hHR6BZ_c1YP9"
      },
      "execution_count": null,
      "outputs": []
    },
    {
      "cell_type": "code",
      "source": [
        "ResultMap={}\n",
        "for faceValue,faceName in zip(TrainClasses.values(),TrainClasses.keys()):\n",
        "    ResultMap[faceValue]=faceName"
      ],
      "metadata": {
        "id": "lboN6P7v1oZq"
      },
      "execution_count": null,
      "outputs": []
    },
    {
      "cell_type": "code",
      "source": [
        "import pickle\n",
        "with open(\"ResultsMap.pkl\", 'wb') as fileWriteStream:\n",
        "    pickle.dump(ResultMap, fileWriteStream)"
      ],
      "metadata": {
        "id": "a8NWChbR1odg"
      },
      "execution_count": null,
      "outputs": []
    },
    {
      "cell_type": "code",
      "source": [
        "print(\"Mapping of Face and its ID\",ResultMap)"
      ],
      "metadata": {
        "id": "sbgJftYN1oh7"
      },
      "execution_count": null,
      "outputs": []
    },
    {
      "cell_type": "code",
      "source": [
        "OutputNeurons=len(ResultMap)\n",
        "print('\\n The Number of output neurons: ', OutputNeurons)"
      ],
      "metadata": {
        "id": "ioSFjGik1olK"
      },
      "execution_count": null,
      "outputs": []
    },
    {
      "cell_type": "markdown",
      "source": [
        "# Creating CNN model"
      ],
      "metadata": {
        "id": "-578gPqm1xra"
      }
    },
    {
      "cell_type": "code",
      "source": [
        "from keras.models import Sequential\n",
        "from keras.layers import Conv2D, BatchNormalization, MaxPooling2D, Flatten, Dense, Dropout"
      ],
      "metadata": {
        "id": "djpieddv1wSX"
      },
      "execution_count": null,
      "outputs": []
    },
    {
      "cell_type": "code",
      "source": [
        "input_shape = (64, 64, 3)\n",
        "OutputNeurons = 7\n",
        "\n",
        "classifier = Sequential()\n",
        "\n",
        "\n",
        "classifier.add(Conv2D(32, (3, 3), activation='relu', input_shape=input_shape, padding='same'))\n",
        "classifier.add(BatchNormalization())\n",
        "classifier.add(MaxPooling2D(pool_size=(2, 2)))\n",
        "\n",
        "classifier.add(Conv2D(64, (3, 3), activation='relu', padding='same'))\n",
        "classifier.add(BatchNormalization())\n",
        "classifier.add(MaxPooling2D(pool_size=(2, 2)))\n",
        "\n",
        "classifier.add(Conv2D(128, (3, 3), activation='relu', padding='same'))\n",
        "classifier.add(BatchNormalization())\n",
        "classifier.add(MaxPooling2D(pool_size=(2, 2)))\n",
        "\n",
        "classifier.add(Conv2D(256, (3, 3), activation='relu', padding='same'))\n",
        "classifier.add(BatchNormalization())\n",
        "classifier.add(MaxPooling2D(pool_size=(2, 2)))\n",
        "\n",
        "classifier.add(Flatten())\n",
        "classifier.add(Dense(256, activation='relu'))\n",
        "classifier.add(Dropout(0.5))\n",
        "classifier.add(Dense(OutputNeurons, activation='softmax'))\n",
        "\n",
        "classifier.compile(optimizer='adam', loss='categorical_crossentropy', metrics=['accuracy'])\n"
      ],
      "metadata": {
        "id": "a32suBk21wW2"
      },
      "execution_count": null,
      "outputs": []
    },
    {
      "cell_type": "code",
      "source": [
        "classifier.summary()"
      ],
      "metadata": {
        "id": "oxm4B6Gg1wj2"
      },
      "execution_count": null,
      "outputs": []
    },
    {
      "cell_type": "code",
      "source": [
        "import time\n",
        "from keras.callbacks import EarlyStopping\n",
        "early_stopping = EarlyStopping(monitor='val_loss', min_delta=0.01, patience=10, mode='min', verbose=1)\n",
        "\n",
        "StartTime = time.time()\n",
        "classifier.fit(\n",
        "                    training_set,\n",
        "                    steps_per_epoch=885,\n",
        "                    epochs=1000,\n",
        "                    validation_data=test_set,\n",
        "                    validation_steps=221,\n",
        "                    callbacks=[early_stopping]\n",
        "                    )\n",
        "\n",
        "EndTime=time.time()\n",
        "print(\"###### Total Time Taken: \", round((EndTime-StartTime)/60), 'Minutes ######')"
      ],
      "metadata": {
        "id": "Vax46rpX2IW9"
      },
      "execution_count": null,
      "outputs": []
    },
    {
      "cell_type": "code",
      "source": [],
      "metadata": {
        "id": "zLOH-H2z2Ie1"
      },
      "execution_count": null,
      "outputs": []
    },
    {
      "cell_type": "code",
      "source": [],
      "metadata": {
        "id": "Ax1KBtdh2Iik"
      },
      "execution_count": null,
      "outputs": []
    }
  ],
  "metadata": {
    "colab": {
      "provenance": [],
      "include_colab_link": true
    },
    "kernelspec": {
      "display_name": "Python 3",
      "name": "python3"
    },
    "language_info": {
      "codemirror_mode": {
        "name": "ipython",
        "version": 3
      },
      "file_extension": ".py",
      "mimetype": "text/x-python",
      "name": "python",
      "nbconvert_exporter": "python",
      "pygments_lexer": "ipython3",
      "version": "3.11.5"
    }
  },
  "nbformat": 4,
  "nbformat_minor": 0
}