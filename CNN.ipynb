{
 "cells": [
  {
   "cell_type": "code",
   "execution_count": 4,
   "id": "011aabd4",
   "metadata": {},
   "outputs": [],
   "source": [
    "import os\n",
    "import tensorflow as tf\n",
    "from tensorflow.keras.models import Sequential\n",
    "from tensorflow.keras.layers import Conv2D, MaxPooling2D, Dense, Flatten, Dropout\n",
    "import numpy as np\n",
    "import pandas as pd\n",
    "import matplotlib.pyplot as plt\n",
    "import seaborn as sns\n",
    "from sklearn.model_selection import train_test_split\n",
    "from sklearn.preprocessing import LabelEncoder\n",
    "from sklearn.linear_model import LogisticRegression\n",
    "from sklearn.metrics import classification_report, accuracy_score\n",
    "from sklearn.metrics import classification_report, accuracy_score, confusion_matrix\n",
    "import dlib\n",
    "import cv2\n",
    "from PIL import Image"
   ]
  },
  {
   "cell_type": "code",
   "execution_count": 5,
   "id": "9bb8f0a8",
   "metadata": {},
   "outputs": [],
   "source": [
    "df = pd.read_csv('fairface.csv')"
   ]
  },
  {
   "cell_type": "code",
   "execution_count": 6,
   "id": "ec9d31e5",
   "metadata": {},
   "outputs": [
    {
     "data": {
      "text/html": [
       "<div>\n",
       "<style scoped>\n",
       "    .dataframe tbody tr th:only-of-type {\n",
       "        vertical-align: middle;\n",
       "    }\n",
       "\n",
       "    .dataframe tbody tr th {\n",
       "        vertical-align: top;\n",
       "    }\n",
       "\n",
       "    .dataframe thead th {\n",
       "        text-align: right;\n",
       "    }\n",
       "</style>\n",
       "<table border=\"1\" class=\"dataframe\">\n",
       "  <thead>\n",
       "    <tr style=\"text-align: right;\">\n",
       "      <th></th>\n",
       "      <th>file</th>\n",
       "      <th>age</th>\n",
       "      <th>gender</th>\n",
       "      <th>race</th>\n",
       "      <th>phototype</th>\n",
       "    </tr>\n",
       "  </thead>\n",
       "  <tbody>\n",
       "    <tr>\n",
       "      <th>0</th>\n",
       "      <td>1.jpg</td>\n",
       "      <td>50-59</td>\n",
       "      <td>Male</td>\n",
       "      <td>East Asian</td>\n",
       "      <td>III</td>\n",
       "    </tr>\n",
       "    <tr>\n",
       "      <th>1</th>\n",
       "      <td>10.jpg</td>\n",
       "      <td>30-39</td>\n",
       "      <td>Male</td>\n",
       "      <td>Middle Eastern</td>\n",
       "      <td>V</td>\n",
       "    </tr>\n",
       "    <tr>\n",
       "      <th>2</th>\n",
       "      <td>100.jpg</td>\n",
       "      <td>20-29</td>\n",
       "      <td>Female</td>\n",
       "      <td>East Asian</td>\n",
       "      <td>III</td>\n",
       "    </tr>\n",
       "    <tr>\n",
       "      <th>3</th>\n",
       "      <td>1000.jpg</td>\n",
       "      <td>30-39</td>\n",
       "      <td>Male</td>\n",
       "      <td>White</td>\n",
       "      <td>I &amp; II</td>\n",
       "    </tr>\n",
       "    <tr>\n",
       "      <th>4</th>\n",
       "      <td>10004.jpg</td>\n",
       "      <td>40-49</td>\n",
       "      <td>Male</td>\n",
       "      <td>Indian</td>\n",
       "      <td>V</td>\n",
       "    </tr>\n",
       "  </tbody>\n",
       "</table>\n",
       "</div>"
      ],
      "text/plain": [
       "        file    age  gender            race phototype\n",
       "0      1.jpg  50-59    Male      East Asian       III\n",
       "1     10.jpg  30-39    Male  Middle Eastern         V\n",
       "2    100.jpg  20-29  Female      East Asian       III\n",
       "3   1000.jpg  30-39    Male           White    I & II\n",
       "4  10004.jpg  40-49    Male          Indian         V"
      ]
     },
     "execution_count": 6,
     "metadata": {},
     "output_type": "execute_result"
    }
   ],
   "source": [
    "df.head()"
   ]
  },
  {
   "cell_type": "code",
   "execution_count": 7,
   "id": "6b289bbf",
   "metadata": {},
   "outputs": [
    {
     "data": {
      "text/plain": [
       "(         file    age gender        race phototype\n",
       " count   35430  35430  35430       35430     35430\n",
       " unique  35430      5      2           7         5\n",
       " top     1.jpg  20-29   Male  East Asian       III\n",
       " freq        1  14337  17716        7086      7086,\n",
       " file         0\n",
       " age          0\n",
       " gender       0\n",
       " race         0\n",
       " phototype    0\n",
       " dtype: int64)"
      ]
     },
     "execution_count": 7,
     "metadata": {},
     "output_type": "execute_result"
    }
   ],
   "source": [
    "# Generate a statistical summary for any numerical columns (if any)\n",
    "numerical_summary = df.describe()\n",
    "\n",
    "# Check for missing values in the dataset\n",
    "missing_values = df.isnull().sum()\n",
    "\n",
    "numerical_summary, missing_values"
   ]
  },
  {
   "cell_type": "code",
   "execution_count": 8,
   "id": "26d94ddf",
   "metadata": {},
   "outputs": [
    {
     "data": {
      "text/plain": [
       "0        False\n",
       "1        False\n",
       "2        False\n",
       "3        False\n",
       "4        False\n",
       "         ...  \n",
       "35425    False\n",
       "35426    False\n",
       "35427    False\n",
       "35428    False\n",
       "35429    False\n",
       "Length: 35430, dtype: bool"
      ]
     },
     "execution_count": 8,
     "metadata": {},
     "output_type": "execute_result"
    }
   ],
   "source": [
    "df.duplicated()"
   ]
  },
  {
   "cell_type": "code",
   "execution_count": 9,
   "id": "b6196f77",
   "metadata": {},
   "outputs": [
    {
     "name": "stdout",
     "output_type": "stream",
     "text": [
      "Antal dubbletter i datasetet: 0\n"
     ]
    }
   ],
   "source": [
    "duplicates = df.duplicated()\n",
    "# Visa antalet dubbletter\n",
    "print(\"Antal dubbletter i datasetet:\", duplicates.sum())"
   ]
  },
  {
   "cell_type": "code",
   "execution_count": 10,
   "id": "8ec0c4c0",
   "metadata": {},
   "outputs": [
    {
     "data": {
      "image/png": "[encoded data removed]",
      "text/plain": [
       "<Figure size 640x480 with 1 Axes>"
      ]
     },
     "metadata": {},
     "output_type": "display_data"
    }
   ],
   "source": [
    "# Skapa en figur och en axel med matplotlib\n",
    "fig, ax = plt.subplots()\n",
    "\n",
    "# Skapa ett stapeldiagram för att visa fördelningen av fototyper\n",
    "sns.countplot(x='gender', data=df, ax=ax)\n",
    "\n",
    "# Beräkna antalet individer för varje fototyp och lägg till det ovanför staplarna\n",
    "for p in ax.patches:\n",
    "    ax.annotate(f'{p.get_height()}', (p.get_x() + p.get_width() / 2., p.get_height()),\n",
    "                ha = 'center', va = 'center', xytext = (0, 5), textcoords = 'offset points')\n",
    "\n",
    "# Sätt titel på grafen\n",
    "ax.set_title('Fördelning av Kön')\n",
    "\n",
    "# Visa grafen\n",
    "plt.show()"
   ]
  },
  {
   "cell_type": "code",
   "execution_count": 11,
   "id": "47c39fdd",
   "metadata": {},
   "outputs": [
    {
     "data": {
      "image/png": "[encoded data removed]",
      "text/plain": [
       "<Figure size 640x480 with 1 Axes>"
      ]
     },
     "metadata": {},
     "output_type": "display_data"
    }
   ],
   "source": [
    "# Skapa en figur och en axel med matplotlib\n",
    "fig, ax = plt.subplots()\n",
    "\n",
    "# Skapa ett stapeldiagram för att visa fördelningen av fototyper\n",
    "sns.countplot(x='race', data=df, ax=ax)\n",
    "\n",
    "# Beräkna antalet individer för varje fototyp och lägg till det ovanför staplarna\n",
    "for p in ax.patches:\n",
    "    ax.annotate(f'{p.get_height()}', (p.get_x() + p.get_width() / 2., p.get_height()),\n",
    "                ha = 'center', va = 'center', xytext = (0, 5), textcoords = 'offset points')\n",
    "\n",
    "# Sätt titel på grafen\n",
    "ax.set_title('Fördelning av Ras')\n",
    "plt.xticks(rotation=45)\n",
    "\n",
    "# Visa grafen\n",
    "plt.show()"
   ]
  },
  {
   "cell_type": "code",
   "execution_count": 12,
   "id": "a53ff62c",
   "metadata": {},
   "outputs": [
    {
     "data": {
      "image/png": "[encoded data removed]",
      "text/plain": [
       "<Figure size 640x480 with 1 Axes>"
      ]
     },
     "metadata": {},
     "output_type": "display_data"
    }
   ],
   "source": [
    "# Skapa en figur och en axel med matplotlib\n",
    "fig, ax = plt.subplots()\n",
    "\n",
    "# Skapa ett stapeldiagram för att visa fördelningen av fototyper\n",
    "sns.countplot(x='age', data=df, ax=ax)\n",
    "\n",
    "# Beräkna antalet individer för varje fototyp och lägg till det ovanför staplarna\n",
    "for p in ax.patches:\n",
    "    ax.annotate(f'{p.get_height()}', (p.get_x() + p.get_width() / 2., p.get_height()),\n",
    "                ha = 'center', va = 'center', xytext = (0, 5), textcoords = 'offset points')\n",
    "\n",
    "# Sätt titel på grafen\n",
    "ax.set_title('Fördelning av Åldersgrupper')\n",
    "plt.xticks(rotation=45)\n",
    "\n",
    "# Visa grafen\n",
    "plt.show()"
   ]
  },
  {
   "cell_type": "code",
   "execution_count": 13,
   "id": "b98275b5",
   "metadata": {},
   "outputs": [
    {
     "data": {
      "image/png": "[encoded data removed]",
      "text/plain": [
       "<Figure size 640x480 with 1 Axes>"
      ]
     },
     "metadata": {},
     "output_type": "display_data"
    }
   ],
   "source": [
    "# Skapa en figur och en axel med matplotlib\n",
    "fig, ax = plt.subplots()\n",
    "# Skapa ett stapeldiagram för att visa fördelningen av fototyper\n",
    "sns.countplot(x='phototype', data=df, ax=ax)\n",
    "# Beräkna antalet individer för varje fototyp och lägg till det ovanför staplarna\n",
    "for p in ax.patches:\n",
    "    ax.annotate(f'{p.get_height()}', (p.get_x() + p.get_width() / 2., p.get_height()),\n",
    "                ha = 'center', va = 'center', xytext = (0, 5), textcoords = 'offset points')\n",
    "# Sätt titel på grafen\n",
    "ax.set_title('Fördelning av Fototyper')\n",
    "# Visa grafen\n",
    "plt.show()"
   ]
  },
  {
   "cell_type": "code",
   "execution_count": 38,
   "id": "7cc8cd96",
   "metadata": {},
   "outputs": [],
   "source": [
    "\n",
    "# import shutil\n",
    "\n",
    "# # Assuming df is loaded from your dataset file\n",
    "# # df = pd.read_csv('path_to_your_dataset.csv')\n",
    "\n",
    "# main_directory = (r\"C:\\Users\\46722\\Desktop\\fairfacedata\\fairface_images\")\n",
    "# structured_directory = (r'C:\\Users\\46722\\Desktop\\OrganiseradeBilder')\n",
    "\n",
    "# def organize_images(df, main_dir, structured_dir):\n",
    "#     for index, row in df.iterrows():\n",
    "#         source = os.path.join(main_dir, row['file'])\n",
    "#         race_dir = os.path.join(structured_dir, row['race'])\n",
    "        \n",
    "#         if not os.path.exists(race_dir):\n",
    "#             os.makedirs(race_dir)\n",
    "#         destination = os.path.join(race_dir, row['file'])\n",
    "#         if os.path.exists(source):\n",
    "#             shutil.copy(source, destination)\n",
    "#         else:\n",
    "#             print(f'file could not be found and skipped: {source}')\n",
    "\n"
   ]
  },
  {
   "cell_type": "code",
   "execution_count": null,
   "id": "d1cfcda9",
   "metadata": {},
   "outputs": [],
   "source": []
  },
  {
   "cell_type": "code",
   "execution_count": 39,
   "id": "4ec247cd",
   "metadata": {},
   "outputs": [
    {
     "name": "stdout",
     "output_type": "stream",
     "text": [
      "file could not be found and skipped: C:\\Users\\46722\\Desktop\\fairfacedata\\fairface_images\\28544.jpg\n",
      "file could not be found and skipped: C:\\Users\\46722\\Desktop\\fairfacedata\\fairface_images\\31948.jpg\n",
      "file could not be found and skipped: C:\\Users\\46722\\Desktop\\fairfacedata\\fairface_images\\3339.jpg\n",
      "file could not be found and skipped: C:\\Users\\46722\\Desktop\\fairfacedata\\fairface_images\\34114.jpg\n",
      "file could not be found and skipped: C:\\Users\\46722\\Desktop\\fairfacedata\\fairface_images\\47808.jpg\n",
      "file could not be found and skipped: C:\\Users\\46722\\Desktop\\fairfacedata\\fairface_images\\56453.jpg\n"
     ]
    }
   ],
   "source": [
    "organize_images(df, main_directory, structured_directory )"
   ]
  },
  {
   "cell_type": "markdown",
   "id": "a8b70408",
   "metadata": {},
   "source": [
    "## Spliting images"
   ]
  },
  {
   "cell_type": "code",
   "execution_count": null,
   "id": "cd8a0038",
   "metadata": {},
   "outputs": [],
   "source": []
  },
  {
   "cell_type": "code",
   "execution_count": 43,
   "id": "d013885d",
   "metadata": {},
   "outputs": [],
   "source": [
    "import tensorflow as tf\n",
    "from tensorflow.keras.applications import MobileNetV2\n",
    "from tensorflow.keras.layers import Dense, GlobalAveragePooling2D, Dropout\n",
    "from tensorflow.keras.models import Model\n",
    "from tensorflow.keras.optimizers import Adam\n",
    "from tensorflow.keras.preprocessing.image import ImageDataGenerator\n"
   ]
  },
  {
   "cell_type": "code",
   "execution_count": 53,
   "id": "f9654102",
   "metadata": {},
   "outputs": [
    {
     "name": "stderr",
     "output_type": "stream",
     "text": [
      "Copying files: 35424 files [03:15, 180.79 files/s]\n"
     ]
    }
   ],
   "source": [
    "import splitfolders\n",
    "\n",
    "input_folder = r\"C:\\Users\\46722\\Desktop\\OrganiseradeBilder\"\n",
    "output_folder = r\"C:\\Users\\46722\\Desktop\\structured_dataset\"\n",
    "\n",
    "# Split with a ratio of 80% training, 20% validation\n",
    "splitfolders.ratio(input_folder, output=output_folder, seed=42, ratio=(.8, .2))\n",
    "\n",
    "# Now you have a structured dataset with training and validation directories\n"
   ]
  },
  {
   "cell_type": "code",
   "execution_count": 44,
   "id": "2bb3bcf6",
   "metadata": {},
   "outputs": [],
   "source": [
    "train_datagen = ImageDataGenerator(\n",
    "    rescale=1./255,\n",
    "    rotation_range=40,\n",
    "    width_shift_range=0.2,\n",
    "    height_shift_range=0.2,\n",
    "    shear_range=0.2,\n",
    "    zoom_range=0.2,\n",
    "    horizontal_flip=True,\n",
    "    fill_mode='nearest')"
   ]
  },
  {
   "cell_type": "code",
   "execution_count": 45,
   "id": "27c1c50e",
   "metadata": {},
   "outputs": [],
   "source": [
    "validation_datagen = ImageDataGenerator(rescale=1./255)  # Only rescale for validation data"
   ]
  },
  {
   "cell_type": "code",
   "execution_count": 55,
   "id": "fcde8360",
   "metadata": {},
   "outputs": [
    {
     "name": "stdout",
     "output_type": "stream",
     "text": [
      "Found 28337 images belonging to 7 classes.\n"
     ]
    }
   ],
   "source": [
    "train_generator = train_datagen.flow_from_directory(\n",
    "    r\"C:\\Users\\46722\\Desktop\\structured_dataset\\train\",\n",
    "    target_size=(224, 224),\n",
    "    batch_size=32,\n",
    "    class_mode='categorical')"
   ]
  },
  {
   "cell_type": "code",
   "execution_count": 56,
   "id": "d6308da7",
   "metadata": {},
   "outputs": [
    {
     "name": "stdout",
     "output_type": "stream",
     "text": [
      "Found 7087 images belonging to 7 classes.\n"
     ]
    }
   ],
   "source": [
    "validation_generator = validation_datagen.flow_from_directory(\n",
    "    r\"C:\\Users\\46722\\Desktop\\structured_dataset\\val\",\n",
    "    target_size=(224, 224),\n",
    "    batch_size=32,\n",
    "    class_mode='categorical')"
   ]
  },
  {
   "cell_type": "code",
   "execution_count": 57,
   "id": "62ff644f",
   "metadata": {},
   "outputs": [
    {
     "name": "stdout",
     "output_type": "stream",
     "text": [
      "Downloading data from https://storage.googleapis.com/tensorflow/keras-applications/mobilenet_v2/mobilenet_v2_weights_tf_dim_ordering_tf_kernels_1.0_224_no_top.h5\n",
      "9406464/9406464 [==============================] - 1s 0us/step\n"
     ]
    }
   ],
   "source": [
    "base_model = MobileNetV2(weights='imagenet', include_top=False, input_shape=(224, 224, 3))"
   ]
  },
  {
   "cell_type": "code",
   "execution_count": 58,
   "id": "3f80acb8",
   "metadata": {},
   "outputs": [],
   "source": [
    "# Freeze the base model\n",
    "base_model.trainable = False"
   ]
  },
  {
   "cell_type": "code",
   "execution_count": 59,
   "id": "907ada7a",
   "metadata": {},
   "outputs": [],
   "source": [
    "# Add custom layers on top of the base model\n",
    "x = base_model.output\n",
    "x = GlobalAveragePooling2D()(x)\n",
    "x = Dense(1024, activation='relu')(x)\n",
    "x = Dropout(0.5)(x)  # Add dropout\n",
    "predictions = Dense(train_generator.num_classes, activation='softmax')(x)\n"
   ]
  },
  {
   "cell_type": "code",
   "execution_count": 60,
   "id": "f41575ad",
   "metadata": {},
   "outputs": [],
   "source": [
    "# Construct the final model\n",
    "model = Model(inputs=base_model.input, outputs=predictions)"
   ]
  },
  {
   "cell_type": "code",
   "execution_count": 61,
   "id": "f595a9f3",
   "metadata": {},
   "outputs": [
    {
     "name": "stderr",
     "output_type": "stream",
     "text": [
      "WARNING:absl:`lr` is deprecated in Keras optimizer, please use `learning_rate` or use the legacy optimizer, e.g.,tf.keras.optimizers.legacy.Adam.\n"
     ]
    }
   ],
   "source": [
    "# Compile the model\n",
    "model.compile(optimizer=Adam(lr=0.0001), loss='categorical_crossentropy', metrics=['accuracy'])\n"
   ]
  },
  {
   "cell_type": "code",
   "execution_count": null,
   "id": "0a2ed385",
   "metadata": {},
   "outputs": [
    {
     "name": "stdout",
     "output_type": "stream",
     "text": [
      "Epoch 1/10\n",
      "885/885 [==============================] - 650s 731ms/step - loss: 1.7359 - accuracy: 0.3317 - val_loss: 1.6593 - val_accuracy: 0.3529\n",
      "Epoch 2/10\n",
      "885/885 [==============================] - 531s 600ms/step - loss: 1.6522 - accuracy: 0.3626 - val_loss: 1.5742 - val_accuracy: 0.4014\n",
      "Epoch 3/10\n",
      "885/885 [==============================] - 534s 603ms/step - loss: 1.6239 - accuracy: 0.3754 - val_loss: 1.5776 - val_accuracy: 0.4005\n",
      "Epoch 4/10\n",
      "295/885 [=========>....................] - ETA: 4:59 - loss: 1.6144 - accuracy: 0.3893"
     ]
    }
   ],
   "source": [
    "# Train the model\n",
    "history = model.fit(\n",
    "    train_generator,\n",
    "    steps_per_epoch=train_generator.samples // train_generator.batch_size,\n",
    "    epochs=10,\n",
    "    validation_data=validation_generator,\n",
    "    validation_steps=validation_generator.samples // validation_generator.batch_size)"
   ]
  },
  {
   "cell_type": "code",
   "execution_count": null,
   "id": "e0aa9f8b",
   "metadata": {},
   "outputs": [],
   "source": []
  },
  {
   "cell_type": "code",
   "execution_count": null,
   "id": "d8b5c044",
   "metadata": {},
   "outputs": [],
   "source": []
  },
  {
   "cell_type": "code",
   "execution_count": 41,
   "id": "7970d652",
   "metadata": {},
   "outputs": [
    {
     "name": "stdout",
     "output_type": "stream",
     "text": [
      "Found 35424 files belonging to 7 classes.\n",
      "Train size: 774, Validation size: 221, Test size: 112\n"
     ]
    }
   ],
   "source": [
    "# Ange sökvägen till din strukturerade bildmapp\n",
    "image_directory = (r'C:\\Users\\46722\\Desktop\\OrganiseradeBilder')\n",
    "\n",
    "# Skapa en bild-dataset\n",
    "images = tf.keras.utils.image_dataset_from_directory(image_directory)\n",
    "\n",
    "# Skala ner bilderna så att pixelvärdena ligger mellan 0 och 1\n",
    "scaled_images = images.map(lambda x, y: (x / 255.0, y))\n",
    "\n",
    "# Dela upp datasetet i tränings-, validerings- och testset\n",
    "train_size = int(len(images) * 0.7)\n",
    "validate_size = int(len(images) * 0.2)\n",
    "test_size = len(images) - train_size - validate_size\n",
    "\n",
    "train_dataset = scaled_images.take(train_size)\n",
    "validate_dataset = scaled_images.skip(train_size).take(validate_size)\n",
    "test_dataset = scaled_images.skip(train_size + validate_size)\n",
    "\n",
    "print(f\"Train size: {train_size}, Validation size: {validate_size}, Test size: {test_size}\")"
   ]
  },
  {
   "cell_type": "code",
   "execution_count": null,
   "id": "b68b97fa",
   "metadata": {},
   "outputs": [],
   "source": []
  },
  {
   "cell_type": "code",
   "execution_count": 25,
   "id": "a834b6c9",
   "metadata": {},
   "outputs": [],
   "source": [
    "# Antal rasklasser\n",
    "num_classes = 7\n",
    "\n",
    "model = Sequential([\n",
    "    Conv2D(16, (3, 3), activation='relu', input_shape=(256, 256, 3)),\n",
    "    MaxPooling2D(),\n",
    "    Conv2D(32, (3, 3), activation='relu'),\n",
    "    MaxPooling2D(),\n",
    "    Conv2D(64, (3, 3), activation='relu'),\n",
    "    MaxPooling2D(),\n",
    "    Flatten(),\n",
    "    Dense(256, activation='relu'),\n",
    "    Dense(num_classes, activation='softmax')  # Använd softmax för flerklassklassificering\n",
    "])\n",
    "\n",
    "model.compile(optimizer='adam', \n",
    "              loss=tf.keras.losses.SparseCategoricalCrossentropy(),\n",
    "              metrics=['accuracy'])\n",
    "\n"
   ]
  },
  {
   "cell_type": "code",
   "execution_count": 26,
   "id": "f67e72de",
   "metadata": {},
   "outputs": [
    {
     "name": "stdout",
     "output_type": "stream",
     "text": [
      "Model: \"sequential\"\n",
      "_________________________________________________________________\n",
      " Layer (type)                Output Shape              Param #   \n",
      "=================================================================\n",
      " conv2d (Conv2D)             (None, 254, 254, 16)      448       \n",
      "                                                                 \n",
      " max_pooling2d (MaxPooling2D  (None, 127, 127, 16)     0         \n",
      " )                                                               \n",
      "                                                                 \n",
      " conv2d_1 (Conv2D)           (None, 125, 125, 32)      4640      \n",
      "                                                                 \n",
      " max_pooling2d_1 (MaxPooling  (None, 62, 62, 32)       0         \n",
      " 2D)                                                             \n",
      "                                                                 \n",
      " conv2d_2 (Conv2D)           (None, 60, 60, 64)        18496     \n",
      "                                                                 \n",
      " max_pooling2d_2 (MaxPooling  (None, 30, 30, 64)       0         \n",
      " 2D)                                                             \n",
      "                                                                 \n",
      " flatten (Flatten)           (None, 57600)             0         \n",
      "                                                                 \n",
      " dense (Dense)               (None, 256)               14745856  \n",
      "                                                                 \n",
      " dense_1 (Dense)             (None, 7)                 1799      \n",
      "                                                                 \n",
      "=================================================================\n",
      "Total params: 14,771,239\n",
      "Trainable params: 14,771,239\n",
      "Non-trainable params: 0\n",
      "_________________________________________________________________\n"
     ]
    }
   ],
   "source": [
    "model.summary()"
   ]
  },
  {
   "cell_type": "code",
   "execution_count": 27,
   "id": "7f83076f",
   "metadata": {},
   "outputs": [
    {
     "name": "stdout",
     "output_type": "stream",
     "text": [
      "Epoch 1/5\n",
      "10/10 [==============================] - 60s 6s/step - loss: 2.3662 - accuracy: 0.1562 - val_loss: 1.8565 - val_accuracy: 0.1500\n",
      "Epoch 2/5\n",
      "10/10 [==============================] - 19s 2s/step - loss: 1.8017 - accuracy: 0.2281 - val_loss: 1.8583 - val_accuracy: 0.2188\n",
      "Epoch 3/5\n",
      "10/10 [==============================] - 18s 2s/step - loss: 1.8002 - accuracy: 0.2406 - val_loss: 1.8827 - val_accuracy: 0.2313\n",
      "Epoch 4/5\n",
      "10/10 [==============================] - 18s 2s/step - loss: 1.8534 - accuracy: 0.1875 - val_loss: 1.8146 - val_accuracy: 0.2438\n",
      "Epoch 5/5\n",
      "10/10 [==============================] - 19s 2s/step - loss: 1.7687 - accuracy: 0.2688 - val_loss: 1.7776 - val_accuracy: 0.2500\n"
     ]
    },
    {
     "data": {
      "text/plain": [
       "<keras.callbacks.History at 0x1ea75d0b110>"
      ]
     },
     "execution_count": 27,
     "metadata": {},
     "output_type": "execute_result"
    }
   ],
   "source": [
    "model.fit(\n",
    "            train_dataset,\n",
    "    steps_per_epoch = 10,\n",
    "    epochs = 5,\n",
    "    validation_data = validate_dataset,\n",
    "    validation_steps = 5\n",
    ")"
   ]
  },
  {
   "cell_type": "code",
   "execution_count": null,
   "id": "587ca9c0",
   "metadata": {},
   "outputs": [],
   "source": []
  }
 ],
 "metadata": {
  "kernelspec": {
   "display_name": "Python 3 (ipykernel)",
   "language": "python",
   "name": "python3"
  },
  "language_info": {
   "codemirror_mode": {
    "name": "ipython",
    "version": 3
   },
   "file_extension": ".py",
   "mimetype": "text/x-python",
   "name": "python",
   "nbconvert_exporter": "python",
   "pygments_lexer": "ipython3",
   "version": "3.11.4"
  }
 },
 "nbformat": 4,
 "nbformat_minor": 5
}
